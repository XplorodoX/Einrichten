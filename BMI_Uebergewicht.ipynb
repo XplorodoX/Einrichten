{
  "nbformat": 4,
  "nbformat_minor": 0,
  "metadata": {
    "language_info": {
      "codemirror_mode": {
        "name": "ipython",
        "version": 3
      },
      "file_extension": ".py",
      "mimetype": "text/x-python",
      "name": "python",
      "nbconvert_exporter": "python",
      "pygments_lexer": "ipython3",
      "version": "3.9.2"
    },
    "orig_nbformat": 2,
    "kernelspec": {
      "name": "python392jvsc74a57bd04cd7ab41f5fca4b9b44701077e38c5ffd31fe66a6cab21e0214b68d958d0e462",
      "display_name": "Python 3.9.2 64-bit"
    },
    "colab": {
      "name": "BMI_Uebergewicht.ipynb",
      "provenance": [],
      "collapsed_sections": [
        "0-onp3hp54Zf",
        "E5ViZTdJ1Zx0",
        "yZDAkf6754Zh",
        "-ubQMbhP7mEB",
        "rjszHa05wcVu",
        "JScSbSRY54Zn",
        "zQYdXPbs54Zp",
        "j8uN9CeF54Zr",
        "XAOJoipj9ebu",
        "H_R_8IL-54Zs",
        "7FAUUZht54Zt",
        "sGNumoKfLU49",
        "K4GwjUIxLaiS",
        "HNtDeFBs9WWU",
        "EPBRgKis54Zy"
      ],
      "toc_visible": true,
      "include_colab_link": true
    }
  },
  "cells": [
    {
      "cell_type": "markdown",
      "metadata": {
        "id": "view-in-github",
        "colab_type": "text"
      },
      "source": [
        "<a href=\"https://colab.research.google.com/github/XplorodoX/EDS_projekt/blob/master/BMI_Uebergewicht.ipynb\" target=\"_parent\"><img src=\"https://colab.research.google.com/assets/colab-badge.svg\" alt=\"Open In Colab\"/></a>"
      ]
    },
    {
      "cell_type": "markdown",
      "metadata": {
        "id": "oApoYYuV54Zc"
      },
      "source": [
        "# **Einführung in Data Science**\n",
        "\n",
        "**Fakultät Informatik &ndash; Hochschule Aalen**\n",
        "\n",
        "**Autoren:** Florian Merlau, Vithusan Ratneswaran, Gianni Balbo"
      ]
    },
    {
      "cell_type": "markdown",
      "metadata": {
        "id": "50duLxlnA6qn"
      },
      "source": [
        "# **Explorative Datenanalyse:**"
      ]
    },
    {
      "cell_type": "markdown",
      "metadata": {
        "id": "oLieFZsyBbua"
      },
      "source": [
        "## **Erste Schritte**"
      ]
    },
    {
      "cell_type": "markdown",
      "metadata": {
        "id": "djN4omn7CM9t"
      },
      "source": [
        "### *Entscheidung welche features wir brauchen*\n",
        "\n",
        "\n",
        "Wir haben uns für die features ERBMI, ... entschieden, weil wir die Essstörungen im Bezug zum BMI analysieren wollen."
      ]
    },
    {
      "cell_type": "markdown",
      "metadata": {
        "id": "9S4AI1HoEjNj"
      },
      "source": [
        "## ***Vorbereitung fürs Coden***\n",
        "\n"
      ]
    },
    {
      "cell_type": "markdown",
      "metadata": {
        "id": "0-onp3hp54Zf"
      },
      "source": [
        "### *Benötigte Bilbliotheken importieren*"
      ]
    },
    {
      "cell_type": "code",
      "metadata": {
        "id": "kGjp3GFV54Zg"
      },
      "source": [
        "import pandas as pd\n",
        "import numpy as np\n",
        "import plotly.express as px\n",
        "import plotly.graph_objects as go\n",
        "from sklearn.impute import SimpleImputer\n",
        "from sklearn.preprocessing import OneHotEncoder\n",
        "from sklearn.linear_model import LinearRegression\n",
        "from google.colab import files"
      ],
      "execution_count": 82,
      "outputs": []
    },
    {
      "cell_type": "markdown",
      "metadata": {
        "id": "E5ViZTdJ1Zx0"
      },
      "source": [
        "### Collect/Upload Datenbanken (nur wenn die Laufzeit neu initalisiert wird!)"
      ]
    },
    {
      "cell_type": "code",
      "metadata": {
        "id": "OxPVhUKT0l5p"
      },
      "source": [
        "#uploaded = files.upload()"
      ],
      "execution_count": 83,
      "outputs": []
    },
    {
      "cell_type": "markdown",
      "metadata": {
        "id": "yZDAkf6754Zh"
      },
      "source": [
        "### *Datenbanken importieren*\n",
        "\n",
        "\n",
        "\n",
        "\n",
        "\n"
      ]
    },
    {
      "cell_type": "code",
      "metadata": {
        "id": "b2X045nF54Zi"
      },
      "source": [
        "raw_ehresp = pd.read_csv('ehresp_2016s.dat')\n",
        "raw_atusrost = pd.read_csv('atusrost_2016.dat')\n",
        "raw_atussum = pd.read_csv('atussum_2016.dat')"
      ],
      "execution_count": 84,
      "outputs": []
    },
    {
      "cell_type": "markdown",
      "metadata": {
        "id": "VgzIoQw554Zk"
      },
      "source": [
        "## **Analyse durch, welche Features fehlende oder ungültige Werte aufweisen**"
      ]
    },
    {
      "cell_type": "markdown",
      "metadata": {
        "id": "mkyyQOT-Djwa"
      },
      "source": [
        "### *Checken was für Datentypen wir in den Tabellen haben bzw. Gültig sind*"
      ]
    },
    {
      "cell_type": "code",
      "metadata": {
        "id": "iY8ZzR4b54Zj",
        "colab": {
          "base_uri": "https://localhost:8080/"
        },
        "outputId": "8db0b331-9882-4324-b8dd-d7562e9d925d"
      },
      "source": [
        "list(raw_atusrost.dtypes)"
      ],
      "execution_count": 85,
      "outputs": [
        {
          "output_type": "execute_result",
          "data": {
            "text/plain": [
              "[dtype('int64'),\n",
              " dtype('int64'),\n",
              " dtype('int64'),\n",
              " dtype('int64'),\n",
              " dtype('int64'),\n",
              " dtype('int64'),\n",
              " dtype('int64'),\n",
              " dtype('int64')]"
            ]
          },
          "metadata": {
            "tags": []
          },
          "execution_count": 85
        }
      ]
    },
    {
      "cell_type": "code",
      "metadata": {
        "colab": {
          "base_uri": "https://localhost:8080/"
        },
        "id": "TLPDJRGnEZTj",
        "outputId": "a0c57cbd-b8a7-4835-8529-ae4804f9de9d"
      },
      "source": [
        "list(raw_ehresp.dtypes)"
      ],
      "execution_count": 86,
      "outputs": [
        {
          "output_type": "execute_result",
          "data": {
            "text/plain": [
              "[dtype('int64'),\n",
              " dtype('int64'),\n",
              " dtype('int64'),\n",
              " dtype('float64'),\n",
              " dtype('int64'),\n",
              " dtype('int64'),\n",
              " dtype('int64'),\n",
              " dtype('int64'),\n",
              " dtype('int64'),\n",
              " dtype('int64'),\n",
              " dtype('int64'),\n",
              " dtype('int64'),\n",
              " dtype('int64'),\n",
              " dtype('int64'),\n",
              " dtype('int64'),\n",
              " dtype('int64'),\n",
              " dtype('int64'),\n",
              " dtype('int64'),\n",
              " dtype('int64'),\n",
              " dtype('int64'),\n",
              " dtype('float64'),\n",
              " dtype('int64'),\n",
              " dtype('int64'),\n",
              " dtype('int64'),\n",
              " dtype('int64'),\n",
              " dtype('int64'),\n",
              " dtype('int64'),\n",
              " dtype('int64'),\n",
              " dtype('int64'),\n",
              " dtype('int64'),\n",
              " dtype('int64'),\n",
              " dtype('int64'),\n",
              " dtype('int64'),\n",
              " dtype('int64'),\n",
              " dtype('int64'),\n",
              " dtype('int64'),\n",
              " dtype('int64')]"
            ]
          },
          "metadata": {
            "tags": []
          },
          "execution_count": 86
        }
      ]
    },
    {
      "cell_type": "code",
      "metadata": {
        "colab": {
          "base_uri": "https://localhost:8080/"
        },
        "id": "Tw6u4MC3EZId",
        "outputId": "b4c056a5-9496-4cb4-a988-181753d24046"
      },
      "source": [
        "list(raw_atussum.dtypes)"
      ],
      "execution_count": 87,
      "outputs": [
        {
          "output_type": "execute_result",
          "data": {
            "text/plain": [
              "[dtype('int64'),\n",
              " dtype('float64'),\n",
              " dtype('int64'),\n",
              " dtype('int64'),\n",
              " dtype('int64'),\n",
              " dtype('int64'),\n",
              " dtype('int64'),\n",
              " dtype('int64'),\n",
              " dtype('int64'),\n",
              " dtype('int64'),\n",
              " dtype('int64'),\n",
              " dtype('int64'),\n",
              " dtype('int64'),\n",
              " dtype('int64'),\n",
              " dtype('int64'),\n",
              " dtype('int64'),\n",
              " dtype('int64'),\n",
              " dtype('int64'),\n",
              " dtype('int64'),\n",
              " dtype('int64'),\n",
              " dtype('int64'),\n",
              " dtype('int64'),\n",
              " dtype('int64'),\n",
              " dtype('int64'),\n",
              " dtype('int64'),\n",
              " dtype('int64'),\n",
              " dtype('int64'),\n",
              " dtype('int64'),\n",
              " dtype('int64'),\n",
              " dtype('int64'),\n",
              " dtype('int64'),\n",
              " dtype('int64'),\n",
              " dtype('int64'),\n",
              " dtype('int64'),\n",
              " dtype('int64'),\n",
              " dtype('int64'),\n",
              " dtype('int64'),\n",
              " dtype('int64'),\n",
              " dtype('int64'),\n",
              " dtype('int64'),\n",
              " dtype('int64'),\n",
              " dtype('int64'),\n",
              " dtype('int64'),\n",
              " dtype('int64'),\n",
              " dtype('int64'),\n",
              " dtype('int64'),\n",
              " dtype('int64'),\n",
              " dtype('int64'),\n",
              " dtype('int64'),\n",
              " dtype('int64'),\n",
              " dtype('int64'),\n",
              " dtype('int64'),\n",
              " dtype('int64'),\n",
              " dtype('int64'),\n",
              " dtype('int64'),\n",
              " dtype('int64'),\n",
              " dtype('int64'),\n",
              " dtype('int64'),\n",
              " dtype('int64'),\n",
              " dtype('int64'),\n",
              " dtype('int64'),\n",
              " dtype('int64'),\n",
              " dtype('int64'),\n",
              " dtype('int64'),\n",
              " dtype('int64'),\n",
              " dtype('int64'),\n",
              " dtype('int64'),\n",
              " dtype('int64'),\n",
              " dtype('int64'),\n",
              " dtype('int64'),\n",
              " dtype('int64'),\n",
              " dtype('int64'),\n",
              " dtype('int64'),\n",
              " dtype('int64'),\n",
              " dtype('int64'),\n",
              " dtype('int64'),\n",
              " dtype('int64'),\n",
              " dtype('int64'),\n",
              " dtype('int64'),\n",
              " dtype('int64'),\n",
              " dtype('int64'),\n",
              " dtype('int64'),\n",
              " dtype('int64'),\n",
              " dtype('int64'),\n",
              " dtype('int64'),\n",
              " dtype('int64'),\n",
              " dtype('int64'),\n",
              " dtype('int64'),\n",
              " dtype('int64'),\n",
              " dtype('int64'),\n",
              " dtype('int64'),\n",
              " dtype('int64'),\n",
              " dtype('int64'),\n",
              " dtype('int64'),\n",
              " dtype('int64'),\n",
              " dtype('int64'),\n",
              " dtype('int64'),\n",
              " dtype('int64'),\n",
              " dtype('int64'),\n",
              " dtype('int64'),\n",
              " dtype('int64'),\n",
              " dtype('int64'),\n",
              " dtype('int64'),\n",
              " dtype('int64'),\n",
              " dtype('int64'),\n",
              " dtype('int64'),\n",
              " dtype('int64'),\n",
              " dtype('int64'),\n",
              " dtype('int64'),\n",
              " dtype('int64'),\n",
              " dtype('int64'),\n",
              " dtype('int64'),\n",
              " dtype('int64'),\n",
              " dtype('int64'),\n",
              " dtype('int64'),\n",
              " dtype('int64'),\n",
              " dtype('int64'),\n",
              " dtype('int64'),\n",
              " dtype('int64'),\n",
              " dtype('int64'),\n",
              " dtype('int64'),\n",
              " dtype('int64'),\n",
              " dtype('int64'),\n",
              " dtype('int64'),\n",
              " dtype('int64'),\n",
              " dtype('int64'),\n",
              " dtype('int64'),\n",
              " dtype('int64'),\n",
              " dtype('int64'),\n",
              " dtype('int64'),\n",
              " dtype('int64'),\n",
              " dtype('int64'),\n",
              " dtype('int64'),\n",
              " dtype('int64'),\n",
              " dtype('int64'),\n",
              " dtype('int64'),\n",
              " dtype('int64'),\n",
              " dtype('int64'),\n",
              " dtype('int64'),\n",
              " dtype('int64'),\n",
              " dtype('int64'),\n",
              " dtype('int64'),\n",
              " dtype('int64'),\n",
              " dtype('int64'),\n",
              " dtype('int64'),\n",
              " dtype('int64'),\n",
              " dtype('int64'),\n",
              " dtype('int64'),\n",
              " dtype('int64'),\n",
              " dtype('int64'),\n",
              " dtype('int64'),\n",
              " dtype('int64'),\n",
              " dtype('int64'),\n",
              " dtype('int64'),\n",
              " dtype('int64'),\n",
              " dtype('int64'),\n",
              " dtype('int64'),\n",
              " dtype('int64'),\n",
              " dtype('int64'),\n",
              " dtype('int64'),\n",
              " dtype('int64'),\n",
              " dtype('int64'),\n",
              " dtype('int64'),\n",
              " dtype('int64'),\n",
              " dtype('int64'),\n",
              " dtype('int64'),\n",
              " dtype('int64'),\n",
              " dtype('int64'),\n",
              " dtype('int64'),\n",
              " dtype('int64'),\n",
              " dtype('int64'),\n",
              " dtype('int64'),\n",
              " dtype('int64'),\n",
              " dtype('int64'),\n",
              " dtype('int64'),\n",
              " dtype('int64'),\n",
              " dtype('int64'),\n",
              " dtype('int64'),\n",
              " dtype('int64'),\n",
              " dtype('int64'),\n",
              " dtype('int64'),\n",
              " dtype('int64'),\n",
              " dtype('int64'),\n",
              " dtype('int64'),\n",
              " dtype('int64'),\n",
              " dtype('int64'),\n",
              " dtype('int64'),\n",
              " dtype('int64'),\n",
              " dtype('int64'),\n",
              " dtype('int64'),\n",
              " dtype('int64'),\n",
              " dtype('int64'),\n",
              " dtype('int64'),\n",
              " dtype('int64'),\n",
              " dtype('int64'),\n",
              " dtype('int64'),\n",
              " dtype('int64'),\n",
              " dtype('int64'),\n",
              " dtype('int64'),\n",
              " dtype('int64'),\n",
              " dtype('int64'),\n",
              " dtype('int64'),\n",
              " dtype('int64'),\n",
              " dtype('int64'),\n",
              " dtype('int64'),\n",
              " dtype('int64'),\n",
              " dtype('int64'),\n",
              " dtype('int64'),\n",
              " dtype('int64'),\n",
              " dtype('int64'),\n",
              " dtype('int64'),\n",
              " dtype('int64'),\n",
              " dtype('int64'),\n",
              " dtype('int64'),\n",
              " dtype('int64'),\n",
              " dtype('int64'),\n",
              " dtype('int64'),\n",
              " dtype('int64'),\n",
              " dtype('int64'),\n",
              " dtype('int64'),\n",
              " dtype('int64'),\n",
              " dtype('int64'),\n",
              " dtype('int64'),\n",
              " dtype('int64'),\n",
              " dtype('int64'),\n",
              " dtype('int64'),\n",
              " dtype('int64'),\n",
              " dtype('int64'),\n",
              " dtype('int64'),\n",
              " dtype('int64'),\n",
              " dtype('int64'),\n",
              " dtype('int64'),\n",
              " dtype('int64'),\n",
              " dtype('int64'),\n",
              " dtype('int64'),\n",
              " dtype('int64'),\n",
              " dtype('int64'),\n",
              " dtype('int64'),\n",
              " dtype('int64'),\n",
              " dtype('int64'),\n",
              " dtype('int64'),\n",
              " dtype('int64'),\n",
              " dtype('int64'),\n",
              " dtype('int64'),\n",
              " dtype('int64'),\n",
              " dtype('int64'),\n",
              " dtype('int64'),\n",
              " dtype('int64'),\n",
              " dtype('int64'),\n",
              " dtype('int64'),\n",
              " dtype('int64'),\n",
              " dtype('int64'),\n",
              " dtype('int64'),\n",
              " dtype('int64'),\n",
              " dtype('int64'),\n",
              " dtype('int64'),\n",
              " dtype('int64'),\n",
              " dtype('int64'),\n",
              " dtype('int64'),\n",
              " dtype('int64'),\n",
              " dtype('int64'),\n",
              " dtype('int64'),\n",
              " dtype('int64'),\n",
              " dtype('int64'),\n",
              " dtype('int64'),\n",
              " dtype('int64'),\n",
              " dtype('int64'),\n",
              " dtype('int64'),\n",
              " dtype('int64'),\n",
              " dtype('int64'),\n",
              " dtype('int64'),\n",
              " dtype('int64'),\n",
              " dtype('int64'),\n",
              " dtype('int64'),\n",
              " dtype('int64'),\n",
              " dtype('int64'),\n",
              " dtype('int64'),\n",
              " dtype('int64'),\n",
              " dtype('int64'),\n",
              " dtype('int64'),\n",
              " dtype('int64'),\n",
              " dtype('int64'),\n",
              " dtype('int64'),\n",
              " dtype('int64'),\n",
              " dtype('int64'),\n",
              " dtype('int64'),\n",
              " dtype('int64'),\n",
              " dtype('int64'),\n",
              " dtype('int64'),\n",
              " dtype('int64'),\n",
              " dtype('int64'),\n",
              " dtype('int64'),\n",
              " dtype('int64'),\n",
              " dtype('int64'),\n",
              " dtype('int64'),\n",
              " dtype('int64'),\n",
              " dtype('int64'),\n",
              " dtype('int64'),\n",
              " dtype('int64'),\n",
              " dtype('int64'),\n",
              " dtype('int64'),\n",
              " dtype('int64'),\n",
              " dtype('int64'),\n",
              " dtype('int64'),\n",
              " dtype('int64'),\n",
              " dtype('int64'),\n",
              " dtype('int64'),\n",
              " dtype('int64'),\n",
              " dtype('int64'),\n",
              " dtype('int64'),\n",
              " dtype('int64'),\n",
              " dtype('int64'),\n",
              " dtype('int64'),\n",
              " dtype('int64'),\n",
              " dtype('int64'),\n",
              " dtype('int64'),\n",
              " dtype('int64'),\n",
              " dtype('int64'),\n",
              " dtype('int64'),\n",
              " dtype('int64'),\n",
              " dtype('int64'),\n",
              " dtype('int64'),\n",
              " dtype('int64'),\n",
              " dtype('int64'),\n",
              " dtype('int64'),\n",
              " dtype('int64'),\n",
              " dtype('int64'),\n",
              " dtype('int64'),\n",
              " dtype('int64'),\n",
              " dtype('int64'),\n",
              " dtype('int64'),\n",
              " dtype('int64'),\n",
              " dtype('int64'),\n",
              " dtype('int64'),\n",
              " dtype('int64'),\n",
              " dtype('int64'),\n",
              " dtype('int64'),\n",
              " dtype('int64'),\n",
              " dtype('int64'),\n",
              " dtype('int64'),\n",
              " dtype('int64'),\n",
              " dtype('int64'),\n",
              " dtype('int64'),\n",
              " dtype('int64'),\n",
              " dtype('int64'),\n",
              " dtype('int64'),\n",
              " dtype('int64'),\n",
              " dtype('int64'),\n",
              " dtype('int64'),\n",
              " dtype('int64'),\n",
              " dtype('int64'),\n",
              " dtype('int64'),\n",
              " dtype('int64'),\n",
              " dtype('int64'),\n",
              " dtype('int64'),\n",
              " dtype('int64'),\n",
              " dtype('int64'),\n",
              " dtype('int64'),\n",
              " dtype('int64'),\n",
              " dtype('int64'),\n",
              " dtype('int64'),\n",
              " dtype('int64'),\n",
              " dtype('int64'),\n",
              " dtype('int64'),\n",
              " dtype('int64'),\n",
              " dtype('int64'),\n",
              " dtype('int64'),\n",
              " dtype('int64'),\n",
              " dtype('int64'),\n",
              " dtype('int64'),\n",
              " dtype('int64'),\n",
              " dtype('int64'),\n",
              " dtype('int64'),\n",
              " dtype('int64'),\n",
              " dtype('int64'),\n",
              " dtype('int64'),\n",
              " dtype('int64'),\n",
              " dtype('int64'),\n",
              " dtype('int64'),\n",
              " dtype('int64'),\n",
              " dtype('int64'),\n",
              " dtype('int64'),\n",
              " dtype('int64'),\n",
              " dtype('int64'),\n",
              " dtype('int64'),\n",
              " dtype('int64'),\n",
              " dtype('int64'),\n",
              " dtype('int64'),\n",
              " dtype('int64'),\n",
              " dtype('int64'),\n",
              " dtype('int64'),\n",
              " dtype('int64'),\n",
              " dtype('int64'),\n",
              " dtype('int64'),\n",
              " dtype('int64'),\n",
              " dtype('int64'),\n",
              " dtype('int64'),\n",
              " dtype('int64'),\n",
              " dtype('int64'),\n",
              " dtype('int64'),\n",
              " dtype('int64'),\n",
              " dtype('int64'),\n",
              " dtype('int64'),\n",
              " dtype('int64'),\n",
              " dtype('int64'),\n",
              " dtype('int64'),\n",
              " dtype('int64'),\n",
              " dtype('int64'),\n",
              " dtype('int64'),\n",
              " dtype('int64'),\n",
              " dtype('int64'),\n",
              " dtype('int64'),\n",
              " dtype('int64'),\n",
              " dtype('int64'),\n",
              " dtype('int64'),\n",
              " dtype('int64'),\n",
              " dtype('int64'),\n",
              " dtype('int64'),\n",
              " dtype('int64'),\n",
              " dtype('int64'),\n",
              " dtype('int64'),\n",
              " dtype('int64'),\n",
              " dtype('int64')]"
            ]
          },
          "metadata": {
            "tags": []
          },
          "execution_count": 87
        }
      ]
    },
    {
      "cell_type": "markdown",
      "metadata": {
        "id": "-ubQMbhP7mEB"
      },
      "source": [
        "### *Auslesen der Tabellen mit Head() zum Inspizieren*"
      ]
    },
    {
      "cell_type": "code",
      "metadata": {
        "id": "28o6GTJX54Zl",
        "colab": {
          "base_uri": "https://localhost:8080/",
          "height": 0
        },
        "outputId": "7db88768-7ccc-40f1-bebe-4a9c22de9f41"
      },
      "source": [
        "raw_ehresp.head()"
      ],
      "execution_count": 88,
      "outputs": [
        {
          "output_type": "execute_result",
          "data": {
            "text/html": [
              "<div>\n",
              "<style scoped>\n",
              "    .dataframe tbody tr th:only-of-type {\n",
              "        vertical-align: middle;\n",
              "    }\n",
              "\n",
              "    .dataframe tbody tr th {\n",
              "        vertical-align: top;\n",
              "    }\n",
              "\n",
              "    .dataframe thead th {\n",
              "        text-align: right;\n",
              "    }\n",
              "</style>\n",
              "<table border=\"1\" class=\"dataframe\">\n",
              "  <thead>\n",
              "    <tr style=\"text-align: right;\">\n",
              "      <th></th>\n",
              "      <th>TUCASEID</th>\n",
              "      <th>TULINENO</th>\n",
              "      <th>EEINCOME1</th>\n",
              "      <th>ERBMI</th>\n",
              "      <th>ERHHCH</th>\n",
              "      <th>ERINCOME</th>\n",
              "      <th>ERSPEMCH</th>\n",
              "      <th>ERTPREAT</th>\n",
              "      <th>ERTSEAT</th>\n",
              "      <th>ETHGT</th>\n",
              "      <th>ETWGT</th>\n",
              "      <th>EUDIETSODA</th>\n",
              "      <th>EUDRINK</th>\n",
              "      <th>EUEAT</th>\n",
              "      <th>EUEXERCISE</th>\n",
              "      <th>EUEXFREQ</th>\n",
              "      <th>EUFASTFD</th>\n",
              "      <th>EUFASTFDFRQ</th>\n",
              "      <th>EUFFYDAY</th>\n",
              "      <th>EUFDSIT</th>\n",
              "      <th>EUFINLWGT</th>\n",
              "      <th>EUSNAP</th>\n",
              "      <th>EUGENHTH</th>\n",
              "      <th>EUGROSHP</th>\n",
              "      <th>EUHGT</th>\n",
              "      <th>EUINCLVL</th>\n",
              "      <th>EUINCOME2</th>\n",
              "      <th>EUMEAT</th>\n",
              "      <th>EUMILK</th>\n",
              "      <th>EUPRPMEL</th>\n",
              "      <th>EUSODA</th>\n",
              "      <th>EUSTORES</th>\n",
              "      <th>EUSTREASON</th>\n",
              "      <th>EUTHERM</th>\n",
              "      <th>EUWGT</th>\n",
              "      <th>EUWIC</th>\n",
              "      <th>EXINCOME1</th>\n",
              "    </tr>\n",
              "  </thead>\n",
              "  <tbody>\n",
              "    <tr>\n",
              "      <th>0</th>\n",
              "      <td>20160101160045</td>\n",
              "      <td>1</td>\n",
              "      <td>2</td>\n",
              "      <td>26.6</td>\n",
              "      <td>3</td>\n",
              "      <td>3</td>\n",
              "      <td>5</td>\n",
              "      <td>40</td>\n",
              "      <td>0</td>\n",
              "      <td>0</td>\n",
              "      <td>0</td>\n",
              "      <td>-1</td>\n",
              "      <td>1</td>\n",
              "      <td>2</td>\n",
              "      <td>2</td>\n",
              "      <td>-1</td>\n",
              "      <td>2</td>\n",
              "      <td>-1</td>\n",
              "      <td>-1</td>\n",
              "      <td>1</td>\n",
              "      <td>2.529098e+07</td>\n",
              "      <td>2</td>\n",
              "      <td>3</td>\n",
              "      <td>1</td>\n",
              "      <td>66</td>\n",
              "      <td>7</td>\n",
              "      <td>1</td>\n",
              "      <td>1</td>\n",
              "      <td>2</td>\n",
              "      <td>1</td>\n",
              "      <td>2</td>\n",
              "      <td>2</td>\n",
              "      <td>4</td>\n",
              "      <td>2</td>\n",
              "      <td>165</td>\n",
              "      <td>-1</td>\n",
              "      <td>0</td>\n",
              "    </tr>\n",
              "    <tr>\n",
              "      <th>1</th>\n",
              "      <td>20160101160066</td>\n",
              "      <td>1</td>\n",
              "      <td>2</td>\n",
              "      <td>44.3</td>\n",
              "      <td>3</td>\n",
              "      <td>3</td>\n",
              "      <td>5</td>\n",
              "      <td>30</td>\n",
              "      <td>15</td>\n",
              "      <td>0</td>\n",
              "      <td>0</td>\n",
              "      <td>-1</td>\n",
              "      <td>2</td>\n",
              "      <td>1</td>\n",
              "      <td>1</td>\n",
              "      <td>2</td>\n",
              "      <td>2</td>\n",
              "      <td>-1</td>\n",
              "      <td>-1</td>\n",
              "      <td>1</td>\n",
              "      <td>6.301579e+06</td>\n",
              "      <td>2</td>\n",
              "      <td>4</td>\n",
              "      <td>1</td>\n",
              "      <td>69</td>\n",
              "      <td>7</td>\n",
              "      <td>1</td>\n",
              "      <td>1</td>\n",
              "      <td>2</td>\n",
              "      <td>1</td>\n",
              "      <td>-1</td>\n",
              "      <td>1</td>\n",
              "      <td>2</td>\n",
              "      <td>2</td>\n",
              "      <td>300</td>\n",
              "      <td>-1</td>\n",
              "      <td>0</td>\n",
              "    </tr>\n",
              "    <tr>\n",
              "      <th>2</th>\n",
              "      <td>20160101160069</td>\n",
              "      <td>1</td>\n",
              "      <td>2</td>\n",
              "      <td>24.5</td>\n",
              "      <td>3</td>\n",
              "      <td>5</td>\n",
              "      <td>-1</td>\n",
              "      <td>75</td>\n",
              "      <td>0</td>\n",
              "      <td>0</td>\n",
              "      <td>0</td>\n",
              "      <td>-1</td>\n",
              "      <td>2</td>\n",
              "      <td>2</td>\n",
              "      <td>1</td>\n",
              "      <td>1</td>\n",
              "      <td>2</td>\n",
              "      <td>-1</td>\n",
              "      <td>-1</td>\n",
              "      <td>1</td>\n",
              "      <td>9.545378e+06</td>\n",
              "      <td>1</td>\n",
              "      <td>2</td>\n",
              "      <td>1</td>\n",
              "      <td>64</td>\n",
              "      <td>7</td>\n",
              "      <td>2</td>\n",
              "      <td>1</td>\n",
              "      <td>2</td>\n",
              "      <td>1</td>\n",
              "      <td>-1</td>\n",
              "      <td>1</td>\n",
              "      <td>5</td>\n",
              "      <td>1</td>\n",
              "      <td>143</td>\n",
              "      <td>2</td>\n",
              "      <td>0</td>\n",
              "    </tr>\n",
              "    <tr>\n",
              "      <th>3</th>\n",
              "      <td>20160101160083</td>\n",
              "      <td>1</td>\n",
              "      <td>2</td>\n",
              "      <td>21.2</td>\n",
              "      <td>1</td>\n",
              "      <td>5</td>\n",
              "      <td>-1</td>\n",
              "      <td>165</td>\n",
              "      <td>0</td>\n",
              "      <td>0</td>\n",
              "      <td>2</td>\n",
              "      <td>-1</td>\n",
              "      <td>1</td>\n",
              "      <td>2</td>\n",
              "      <td>1</td>\n",
              "      <td>3</td>\n",
              "      <td>2</td>\n",
              "      <td>-1</td>\n",
              "      <td>-1</td>\n",
              "      <td>1</td>\n",
              "      <td>3.034797e+06</td>\n",
              "      <td>1</td>\n",
              "      <td>3</td>\n",
              "      <td>1</td>\n",
              "      <td>57</td>\n",
              "      <td>7</td>\n",
              "      <td>2</td>\n",
              "      <td>1</td>\n",
              "      <td>2</td>\n",
              "      <td>1</td>\n",
              "      <td>2</td>\n",
              "      <td>1</td>\n",
              "      <td>1</td>\n",
              "      <td>2</td>\n",
              "      <td>98</td>\n",
              "      <td>2</td>\n",
              "      <td>0</td>\n",
              "    </tr>\n",
              "    <tr>\n",
              "      <th>4</th>\n",
              "      <td>20160101160084</td>\n",
              "      <td>1</td>\n",
              "      <td>1</td>\n",
              "      <td>29.7</td>\n",
              "      <td>3</td>\n",
              "      <td>1</td>\n",
              "      <td>3</td>\n",
              "      <td>30</td>\n",
              "      <td>27</td>\n",
              "      <td>0</td>\n",
              "      <td>0</td>\n",
              "      <td>-1</td>\n",
              "      <td>1</td>\n",
              "      <td>1</td>\n",
              "      <td>2</td>\n",
              "      <td>-1</td>\n",
              "      <td>2</td>\n",
              "      <td>-1</td>\n",
              "      <td>-1</td>\n",
              "      <td>1</td>\n",
              "      <td>7.238641e+06</td>\n",
              "      <td>2</td>\n",
              "      <td>2</td>\n",
              "      <td>1</td>\n",
              "      <td>64</td>\n",
              "      <td>7</td>\n",
              "      <td>-1</td>\n",
              "      <td>2</td>\n",
              "      <td>2</td>\n",
              "      <td>3</td>\n",
              "      <td>2</td>\n",
              "      <td>1</td>\n",
              "      <td>1</td>\n",
              "      <td>-1</td>\n",
              "      <td>173</td>\n",
              "      <td>-1</td>\n",
              "      <td>0</td>\n",
              "    </tr>\n",
              "  </tbody>\n",
              "</table>\n",
              "</div>"
            ],
            "text/plain": [
              "         TUCASEID  TULINENO  EEINCOME1  ERBMI  ...  EUTHERM  EUWGT  EUWIC  EXINCOME1\n",
              "0  20160101160045         1          2   26.6  ...        2    165     -1          0\n",
              "1  20160101160066         1          2   44.3  ...        2    300     -1          0\n",
              "2  20160101160069         1          2   24.5  ...        1    143      2          0\n",
              "3  20160101160083         1          2   21.2  ...        2     98      2          0\n",
              "4  20160101160084         1          1   29.7  ...       -1    173     -1          0\n",
              "\n",
              "[5 rows x 37 columns]"
            ]
          },
          "metadata": {
            "tags": []
          },
          "execution_count": 88
        }
      ]
    },
    {
      "cell_type": "code",
      "metadata": {
        "id": "ruaY2gcM54Zm",
        "colab": {
          "base_uri": "https://localhost:8080/",
          "height": 0
        },
        "outputId": "90b6df35-3e44-4b92-fc1d-ee0c85347646"
      },
      "source": [
        "raw_atussum.head()"
      ],
      "execution_count": 89,
      "outputs": [
        {
          "output_type": "execute_result",
          "data": {
            "text/html": [
              "<div>\n",
              "<style scoped>\n",
              "    .dataframe tbody tr th:only-of-type {\n",
              "        vertical-align: middle;\n",
              "    }\n",
              "\n",
              "    .dataframe tbody tr th {\n",
              "        vertical-align: top;\n",
              "    }\n",
              "\n",
              "    .dataframe thead th {\n",
              "        text-align: right;\n",
              "    }\n",
              "</style>\n",
              "<table border=\"1\" class=\"dataframe\">\n",
              "  <thead>\n",
              "    <tr style=\"text-align: right;\">\n",
              "      <th></th>\n",
              "      <th>TUCASEID</th>\n",
              "      <th>TUFINLWGT</th>\n",
              "      <th>TRYHHCHILD</th>\n",
              "      <th>TEAGE</th>\n",
              "      <th>TESEX</th>\n",
              "      <th>PEEDUCA</th>\n",
              "      <th>PTDTRACE</th>\n",
              "      <th>PEHSPNON</th>\n",
              "      <th>GTMETSTA</th>\n",
              "      <th>TELFS</th>\n",
              "      <th>TEMJOT</th>\n",
              "      <th>TRDPFTPT</th>\n",
              "      <th>TESCHENR</th>\n",
              "      <th>TESCHLVL</th>\n",
              "      <th>TRSPPRES</th>\n",
              "      <th>TESPEMPNOT</th>\n",
              "      <th>TRERNWA</th>\n",
              "      <th>TRCHILDNUM</th>\n",
              "      <th>TRSPFTPT</th>\n",
              "      <th>TEHRUSLT</th>\n",
              "      <th>TUDIARYDAY</th>\n",
              "      <th>TRHOLIDAY</th>\n",
              "      <th>TRTEC</th>\n",
              "      <th>TRTHH</th>\n",
              "      <th>t010101</th>\n",
              "      <th>t010102</th>\n",
              "      <th>t010201</th>\n",
              "      <th>t010299</th>\n",
              "      <th>t010301</th>\n",
              "      <th>t010399</th>\n",
              "      <th>t010401</th>\n",
              "      <th>t010499</th>\n",
              "      <th>t020101</th>\n",
              "      <th>t020102</th>\n",
              "      <th>t020103</th>\n",
              "      <th>t020104</th>\n",
              "      <th>t020199</th>\n",
              "      <th>t020201</th>\n",
              "      <th>t020202</th>\n",
              "      <th>t020203</th>\n",
              "      <th>...</th>\n",
              "      <th>t180704</th>\n",
              "      <th>t180799</th>\n",
              "      <th>t180801</th>\n",
              "      <th>t180802</th>\n",
              "      <th>t180803</th>\n",
              "      <th>t180804</th>\n",
              "      <th>t180805</th>\n",
              "      <th>t180806</th>\n",
              "      <th>t180807</th>\n",
              "      <th>t180899</th>\n",
              "      <th>t180901</th>\n",
              "      <th>t180902</th>\n",
              "      <th>t180903</th>\n",
              "      <th>t180904</th>\n",
              "      <th>t180905</th>\n",
              "      <th>t180999</th>\n",
              "      <th>t181001</th>\n",
              "      <th>t181002</th>\n",
              "      <th>t181099</th>\n",
              "      <th>t181101</th>\n",
              "      <th>t181201</th>\n",
              "      <th>t181202</th>\n",
              "      <th>t181203</th>\n",
              "      <th>t181204</th>\n",
              "      <th>t181205</th>\n",
              "      <th>t181301</th>\n",
              "      <th>t181302</th>\n",
              "      <th>t181399</th>\n",
              "      <th>t181401</th>\n",
              "      <th>t181499</th>\n",
              "      <th>t181501</th>\n",
              "      <th>t181599</th>\n",
              "      <th>t181601</th>\n",
              "      <th>t181801</th>\n",
              "      <th>t189999</th>\n",
              "      <th>t500101</th>\n",
              "      <th>t500103</th>\n",
              "      <th>t500105</th>\n",
              "      <th>t500106</th>\n",
              "      <th>t500107</th>\n",
              "    </tr>\n",
              "  </thead>\n",
              "  <tbody>\n",
              "    <tr>\n",
              "      <th>0</th>\n",
              "      <td>20160101160045</td>\n",
              "      <td>2.458865e+07</td>\n",
              "      <td>-1</td>\n",
              "      <td>62</td>\n",
              "      <td>2</td>\n",
              "      <td>39</td>\n",
              "      <td>1</td>\n",
              "      <td>2</td>\n",
              "      <td>1</td>\n",
              "      <td>5</td>\n",
              "      <td>-1</td>\n",
              "      <td>-1</td>\n",
              "      <td>-1</td>\n",
              "      <td>-1</td>\n",
              "      <td>1</td>\n",
              "      <td>2</td>\n",
              "      <td>-1</td>\n",
              "      <td>0</td>\n",
              "      <td>-1</td>\n",
              "      <td>-1</td>\n",
              "      <td>6</td>\n",
              "      <td>0</td>\n",
              "      <td>-1</td>\n",
              "      <td>0</td>\n",
              "      <td>690</td>\n",
              "      <td>0</td>\n",
              "      <td>25</td>\n",
              "      <td>0</td>\n",
              "      <td>0</td>\n",
              "      <td>0</td>\n",
              "      <td>0</td>\n",
              "      <td>0</td>\n",
              "      <td>75</td>\n",
              "      <td>6</td>\n",
              "      <td>0</td>\n",
              "      <td>0</td>\n",
              "      <td>0</td>\n",
              "      <td>50</td>\n",
              "      <td>0</td>\n",
              "      <td>45</td>\n",
              "      <td>...</td>\n",
              "      <td>0</td>\n",
              "      <td>0</td>\n",
              "      <td>0</td>\n",
              "      <td>0</td>\n",
              "      <td>0</td>\n",
              "      <td>0</td>\n",
              "      <td>0</td>\n",
              "      <td>0</td>\n",
              "      <td>0</td>\n",
              "      <td>0</td>\n",
              "      <td>0</td>\n",
              "      <td>0</td>\n",
              "      <td>0</td>\n",
              "      <td>0</td>\n",
              "      <td>0</td>\n",
              "      <td>0</td>\n",
              "      <td>0</td>\n",
              "      <td>0</td>\n",
              "      <td>0</td>\n",
              "      <td>0</td>\n",
              "      <td>30</td>\n",
              "      <td>0</td>\n",
              "      <td>0</td>\n",
              "      <td>0</td>\n",
              "      <td>0</td>\n",
              "      <td>0</td>\n",
              "      <td>0</td>\n",
              "      <td>0</td>\n",
              "      <td>0</td>\n",
              "      <td>0</td>\n",
              "      <td>0</td>\n",
              "      <td>0</td>\n",
              "      <td>0</td>\n",
              "      <td>0</td>\n",
              "      <td>0</td>\n",
              "      <td>0</td>\n",
              "      <td>0</td>\n",
              "      <td>0</td>\n",
              "      <td>0</td>\n",
              "      <td>0</td>\n",
              "    </tr>\n",
              "    <tr>\n",
              "      <th>1</th>\n",
              "      <td>20160101160066</td>\n",
              "      <td>5.445941e+06</td>\n",
              "      <td>-1</td>\n",
              "      <td>69</td>\n",
              "      <td>1</td>\n",
              "      <td>37</td>\n",
              "      <td>2</td>\n",
              "      <td>2</td>\n",
              "      <td>2</td>\n",
              "      <td>5</td>\n",
              "      <td>-1</td>\n",
              "      <td>-1</td>\n",
              "      <td>-1</td>\n",
              "      <td>-1</td>\n",
              "      <td>1</td>\n",
              "      <td>2</td>\n",
              "      <td>-1</td>\n",
              "      <td>0</td>\n",
              "      <td>-1</td>\n",
              "      <td>-1</td>\n",
              "      <td>1</td>\n",
              "      <td>0</td>\n",
              "      <td>30</td>\n",
              "      <td>0</td>\n",
              "      <td>600</td>\n",
              "      <td>0</td>\n",
              "      <td>20</td>\n",
              "      <td>0</td>\n",
              "      <td>0</td>\n",
              "      <td>0</td>\n",
              "      <td>0</td>\n",
              "      <td>0</td>\n",
              "      <td>60</td>\n",
              "      <td>0</td>\n",
              "      <td>0</td>\n",
              "      <td>0</td>\n",
              "      <td>0</td>\n",
              "      <td>150</td>\n",
              "      <td>0</td>\n",
              "      <td>0</td>\n",
              "      <td>...</td>\n",
              "      <td>0</td>\n",
              "      <td>0</td>\n",
              "      <td>0</td>\n",
              "      <td>0</td>\n",
              "      <td>0</td>\n",
              "      <td>0</td>\n",
              "      <td>0</td>\n",
              "      <td>0</td>\n",
              "      <td>0</td>\n",
              "      <td>0</td>\n",
              "      <td>0</td>\n",
              "      <td>0</td>\n",
              "      <td>0</td>\n",
              "      <td>0</td>\n",
              "      <td>0</td>\n",
              "      <td>0</td>\n",
              "      <td>0</td>\n",
              "      <td>0</td>\n",
              "      <td>0</td>\n",
              "      <td>0</td>\n",
              "      <td>0</td>\n",
              "      <td>0</td>\n",
              "      <td>0</td>\n",
              "      <td>0</td>\n",
              "      <td>0</td>\n",
              "      <td>0</td>\n",
              "      <td>0</td>\n",
              "      <td>0</td>\n",
              "      <td>0</td>\n",
              "      <td>0</td>\n",
              "      <td>0</td>\n",
              "      <td>0</td>\n",
              "      <td>0</td>\n",
              "      <td>0</td>\n",
              "      <td>0</td>\n",
              "      <td>0</td>\n",
              "      <td>0</td>\n",
              "      <td>0</td>\n",
              "      <td>0</td>\n",
              "      <td>0</td>\n",
              "    </tr>\n",
              "    <tr>\n",
              "      <th>2</th>\n",
              "      <td>20160101160069</td>\n",
              "      <td>8.782622e+06</td>\n",
              "      <td>0</td>\n",
              "      <td>24</td>\n",
              "      <td>2</td>\n",
              "      <td>39</td>\n",
              "      <td>2</td>\n",
              "      <td>2</td>\n",
              "      <td>1</td>\n",
              "      <td>5</td>\n",
              "      <td>-1</td>\n",
              "      <td>-1</td>\n",
              "      <td>2</td>\n",
              "      <td>-1</td>\n",
              "      <td>3</td>\n",
              "      <td>-1</td>\n",
              "      <td>-1</td>\n",
              "      <td>2</td>\n",
              "      <td>-1</td>\n",
              "      <td>-1</td>\n",
              "      <td>1</td>\n",
              "      <td>0</td>\n",
              "      <td>-1</td>\n",
              "      <td>380</td>\n",
              "      <td>940</td>\n",
              "      <td>0</td>\n",
              "      <td>120</td>\n",
              "      <td>0</td>\n",
              "      <td>0</td>\n",
              "      <td>0</td>\n",
              "      <td>0</td>\n",
              "      <td>0</td>\n",
              "      <td>0</td>\n",
              "      <td>0</td>\n",
              "      <td>0</td>\n",
              "      <td>30</td>\n",
              "      <td>0</td>\n",
              "      <td>75</td>\n",
              "      <td>0</td>\n",
              "      <td>0</td>\n",
              "      <td>...</td>\n",
              "      <td>0</td>\n",
              "      <td>0</td>\n",
              "      <td>0</td>\n",
              "      <td>0</td>\n",
              "      <td>0</td>\n",
              "      <td>0</td>\n",
              "      <td>0</td>\n",
              "      <td>0</td>\n",
              "      <td>0</td>\n",
              "      <td>0</td>\n",
              "      <td>0</td>\n",
              "      <td>0</td>\n",
              "      <td>0</td>\n",
              "      <td>0</td>\n",
              "      <td>0</td>\n",
              "      <td>0</td>\n",
              "      <td>0</td>\n",
              "      <td>0</td>\n",
              "      <td>0</td>\n",
              "      <td>0</td>\n",
              "      <td>0</td>\n",
              "      <td>0</td>\n",
              "      <td>0</td>\n",
              "      <td>0</td>\n",
              "      <td>0</td>\n",
              "      <td>0</td>\n",
              "      <td>0</td>\n",
              "      <td>0</td>\n",
              "      <td>0</td>\n",
              "      <td>0</td>\n",
              "      <td>0</td>\n",
              "      <td>0</td>\n",
              "      <td>0</td>\n",
              "      <td>0</td>\n",
              "      <td>0</td>\n",
              "      <td>60</td>\n",
              "      <td>0</td>\n",
              "      <td>0</td>\n",
              "      <td>0</td>\n",
              "      <td>0</td>\n",
              "    </tr>\n",
              "    <tr>\n",
              "      <th>3</th>\n",
              "      <td>20160101160083</td>\n",
              "      <td>3.035910e+06</td>\n",
              "      <td>8</td>\n",
              "      <td>31</td>\n",
              "      <td>2</td>\n",
              "      <td>40</td>\n",
              "      <td>1</td>\n",
              "      <td>2</td>\n",
              "      <td>2</td>\n",
              "      <td>1</td>\n",
              "      <td>2</td>\n",
              "      <td>2</td>\n",
              "      <td>2</td>\n",
              "      <td>-1</td>\n",
              "      <td>3</td>\n",
              "      <td>-1</td>\n",
              "      <td>46944</td>\n",
              "      <td>3</td>\n",
              "      <td>-1</td>\n",
              "      <td>32</td>\n",
              "      <td>1</td>\n",
              "      <td>0</td>\n",
              "      <td>-1</td>\n",
              "      <td>705</td>\n",
              "      <td>635</td>\n",
              "      <td>0</td>\n",
              "      <td>20</td>\n",
              "      <td>0</td>\n",
              "      <td>0</td>\n",
              "      <td>0</td>\n",
              "      <td>0</td>\n",
              "      <td>0</td>\n",
              "      <td>20</td>\n",
              "      <td>50</td>\n",
              "      <td>65</td>\n",
              "      <td>60</td>\n",
              "      <td>0</td>\n",
              "      <td>90</td>\n",
              "      <td>0</td>\n",
              "      <td>50</td>\n",
              "      <td>...</td>\n",
              "      <td>0</td>\n",
              "      <td>0</td>\n",
              "      <td>0</td>\n",
              "      <td>0</td>\n",
              "      <td>0</td>\n",
              "      <td>0</td>\n",
              "      <td>0</td>\n",
              "      <td>0</td>\n",
              "      <td>0</td>\n",
              "      <td>0</td>\n",
              "      <td>0</td>\n",
              "      <td>0</td>\n",
              "      <td>0</td>\n",
              "      <td>0</td>\n",
              "      <td>0</td>\n",
              "      <td>0</td>\n",
              "      <td>0</td>\n",
              "      <td>0</td>\n",
              "      <td>0</td>\n",
              "      <td>0</td>\n",
              "      <td>0</td>\n",
              "      <td>0</td>\n",
              "      <td>0</td>\n",
              "      <td>0</td>\n",
              "      <td>0</td>\n",
              "      <td>0</td>\n",
              "      <td>0</td>\n",
              "      <td>0</td>\n",
              "      <td>0</td>\n",
              "      <td>0</td>\n",
              "      <td>0</td>\n",
              "      <td>0</td>\n",
              "      <td>0</td>\n",
              "      <td>0</td>\n",
              "      <td>0</td>\n",
              "      <td>0</td>\n",
              "      <td>0</td>\n",
              "      <td>0</td>\n",
              "      <td>0</td>\n",
              "      <td>0</td>\n",
              "    </tr>\n",
              "    <tr>\n",
              "      <th>4</th>\n",
              "      <td>20160101160084</td>\n",
              "      <td>6.978586e+06</td>\n",
              "      <td>-1</td>\n",
              "      <td>59</td>\n",
              "      <td>2</td>\n",
              "      <td>39</td>\n",
              "      <td>1</td>\n",
              "      <td>2</td>\n",
              "      <td>1</td>\n",
              "      <td>1</td>\n",
              "      <td>1</td>\n",
              "      <td>2</td>\n",
              "      <td>-1</td>\n",
              "      <td>-1</td>\n",
              "      <td>1</td>\n",
              "      <td>2</td>\n",
              "      <td>30250</td>\n",
              "      <td>0</td>\n",
              "      <td>-1</td>\n",
              "      <td>12</td>\n",
              "      <td>1</td>\n",
              "      <td>0</td>\n",
              "      <td>-1</td>\n",
              "      <td>0</td>\n",
              "      <td>500</td>\n",
              "      <td>0</td>\n",
              "      <td>80</td>\n",
              "      <td>0</td>\n",
              "      <td>0</td>\n",
              "      <td>0</td>\n",
              "      <td>0</td>\n",
              "      <td>0</td>\n",
              "      <td>30</td>\n",
              "      <td>25</td>\n",
              "      <td>0</td>\n",
              "      <td>0</td>\n",
              "      <td>0</td>\n",
              "      <td>0</td>\n",
              "      <td>0</td>\n",
              "      <td>0</td>\n",
              "      <td>...</td>\n",
              "      <td>20</td>\n",
              "      <td>0</td>\n",
              "      <td>0</td>\n",
              "      <td>0</td>\n",
              "      <td>0</td>\n",
              "      <td>0</td>\n",
              "      <td>0</td>\n",
              "      <td>0</td>\n",
              "      <td>0</td>\n",
              "      <td>0</td>\n",
              "      <td>0</td>\n",
              "      <td>0</td>\n",
              "      <td>0</td>\n",
              "      <td>0</td>\n",
              "      <td>0</td>\n",
              "      <td>0</td>\n",
              "      <td>0</td>\n",
              "      <td>0</td>\n",
              "      <td>0</td>\n",
              "      <td>15</td>\n",
              "      <td>0</td>\n",
              "      <td>0</td>\n",
              "      <td>0</td>\n",
              "      <td>0</td>\n",
              "      <td>0</td>\n",
              "      <td>0</td>\n",
              "      <td>0</td>\n",
              "      <td>0</td>\n",
              "      <td>10</td>\n",
              "      <td>0</td>\n",
              "      <td>0</td>\n",
              "      <td>0</td>\n",
              "      <td>0</td>\n",
              "      <td>0</td>\n",
              "      <td>0</td>\n",
              "      <td>0</td>\n",
              "      <td>0</td>\n",
              "      <td>0</td>\n",
              "      <td>0</td>\n",
              "      <td>0</td>\n",
              "    </tr>\n",
              "  </tbody>\n",
              "</table>\n",
              "<p>5 rows × 423 columns</p>\n",
              "</div>"
            ],
            "text/plain": [
              "         TUCASEID     TUFINLWGT  TRYHHCHILD  ...  t500105  t500106  t500107\n",
              "0  20160101160045  2.458865e+07          -1  ...        0        0        0\n",
              "1  20160101160066  5.445941e+06          -1  ...        0        0        0\n",
              "2  20160101160069  8.782622e+06           0  ...        0        0        0\n",
              "3  20160101160083  3.035910e+06           8  ...        0        0        0\n",
              "4  20160101160084  6.978586e+06          -1  ...        0        0        0\n",
              "\n",
              "[5 rows x 423 columns]"
            ]
          },
          "metadata": {
            "tags": []
          },
          "execution_count": 89
        }
      ]
    },
    {
      "cell_type": "code",
      "metadata": {
        "id": "2fXEt6eM54Zm",
        "colab": {
          "base_uri": "https://localhost:8080/",
          "height": 0
        },
        "outputId": "caa32001-5f68-4475-9d14-04adc11c4b4e"
      },
      "source": [
        "raw_atusrost.head()"
      ],
      "execution_count": 90,
      "outputs": [
        {
          "output_type": "execute_result",
          "data": {
            "text/html": [
              "<div>\n",
              "<style scoped>\n",
              "    .dataframe tbody tr th:only-of-type {\n",
              "        vertical-align: middle;\n",
              "    }\n",
              "\n",
              "    .dataframe tbody tr th {\n",
              "        vertical-align: top;\n",
              "    }\n",
              "\n",
              "    .dataframe thead th {\n",
              "        text-align: right;\n",
              "    }\n",
              "</style>\n",
              "<table border=\"1\" class=\"dataframe\">\n",
              "  <thead>\n",
              "    <tr style=\"text-align: right;\">\n",
              "      <th></th>\n",
              "      <th>TUCASEID</th>\n",
              "      <th>TULINENO</th>\n",
              "      <th>TEAGE</th>\n",
              "      <th>TERRP</th>\n",
              "      <th>TESEX</th>\n",
              "      <th>TXAGE</th>\n",
              "      <th>TXRRP</th>\n",
              "      <th>TXSEX</th>\n",
              "    </tr>\n",
              "  </thead>\n",
              "  <tbody>\n",
              "    <tr>\n",
              "      <th>0</th>\n",
              "      <td>20160101160045</td>\n",
              "      <td>1</td>\n",
              "      <td>62</td>\n",
              "      <td>18</td>\n",
              "      <td>2</td>\n",
              "      <td>0</td>\n",
              "      <td>0</td>\n",
              "      <td>0</td>\n",
              "    </tr>\n",
              "    <tr>\n",
              "      <th>1</th>\n",
              "      <td>20160101160045</td>\n",
              "      <td>2</td>\n",
              "      <td>65</td>\n",
              "      <td>20</td>\n",
              "      <td>1</td>\n",
              "      <td>0</td>\n",
              "      <td>0</td>\n",
              "      <td>0</td>\n",
              "    </tr>\n",
              "    <tr>\n",
              "      <th>2</th>\n",
              "      <td>20160101160045</td>\n",
              "      <td>3</td>\n",
              "      <td>43</td>\n",
              "      <td>22</td>\n",
              "      <td>1</td>\n",
              "      <td>0</td>\n",
              "      <td>0</td>\n",
              "      <td>0</td>\n",
              "    </tr>\n",
              "    <tr>\n",
              "      <th>3</th>\n",
              "      <td>20160101160066</td>\n",
              "      <td>1</td>\n",
              "      <td>69</td>\n",
              "      <td>18</td>\n",
              "      <td>1</td>\n",
              "      <td>0</td>\n",
              "      <td>0</td>\n",
              "      <td>0</td>\n",
              "    </tr>\n",
              "    <tr>\n",
              "      <th>4</th>\n",
              "      <td>20160101160066</td>\n",
              "      <td>2</td>\n",
              "      <td>67</td>\n",
              "      <td>20</td>\n",
              "      <td>2</td>\n",
              "      <td>0</td>\n",
              "      <td>0</td>\n",
              "      <td>0</td>\n",
              "    </tr>\n",
              "  </tbody>\n",
              "</table>\n",
              "</div>"
            ],
            "text/plain": [
              "         TUCASEID  TULINENO  TEAGE  TERRP  TESEX  TXAGE  TXRRP  TXSEX\n",
              "0  20160101160045         1     62     18      2      0      0      0\n",
              "1  20160101160045         2     65     20      1      0      0      0\n",
              "2  20160101160045         3     43     22      1      0      0      0\n",
              "3  20160101160066         1     69     18      1      0      0      0\n",
              "4  20160101160066         2     67     20      2      0      0      0"
            ]
          },
          "metadata": {
            "tags": []
          },
          "execution_count": 90
        }
      ]
    },
    {
      "cell_type": "markdown",
      "metadata": {
        "id": "rjszHa05wcVu"
      },
      "source": [
        "### Max und Minimum anzeigen zum überprüfen der Gültigen Werte"
      ]
    },
    {
      "cell_type": "code",
      "metadata": {
        "id": "dbfa_BqVwbbp",
        "colab": {
          "base_uri": "https://localhost:8080/"
        },
        "outputId": "5af393b8-e051-4a80-8f9a-d6d61ca16a03"
      },
      "source": [
        "x = raw_ehresp['ERBMI'].min()\n",
        "y = raw_ehresp['ERBMI'].max()\n",
        "[x,y]"
      ],
      "execution_count": 91,
      "outputs": [
        {
          "output_type": "execute_result",
          "data": {
            "text/plain": [
              "[-1.0, 61.8]"
            ]
          },
          "metadata": {
            "tags": []
          },
          "execution_count": 91
        }
      ]
    },
    {
      "cell_type": "code",
      "metadata": {
        "colab": {
          "base_uri": "https://localhost:8080/"
        },
        "id": "Dkak5Yhx16I1",
        "outputId": "3285936c-a2d3-4802-da8f-11e6330d575a"
      },
      "source": [
        "x = raw_atusrost.min()\n",
        "y = raw_atusrost.max()\n",
        "[x,y]"
      ],
      "execution_count": 92,
      "outputs": [
        {
          "output_type": "execute_result",
          "data": {
            "text/plain": [
              "[TUCASEID    20160101160045\n",
              " TULINENO                 1\n",
              " TEAGE                    0\n",
              " TERRP                   18\n",
              " TESEX                    1\n",
              " TXAGE                    0\n",
              " TXRRP                    0\n",
              " TXSEX                    0\n",
              " dtype: int64, TUCASEID    20161212162509\n",
              " TULINENO                17\n",
              " TEAGE                   85\n",
              " TERRP                   40\n",
              " TESEX                    2\n",
              " TXAGE                   60\n",
              " TXRRP                    0\n",
              " TXSEX                   23\n",
              " dtype: int64]"
            ]
          },
          "metadata": {
            "tags": []
          },
          "execution_count": 92
        }
      ]
    },
    {
      "cell_type": "code",
      "metadata": {
        "colab": {
          "base_uri": "https://localhost:8080/"
        },
        "id": "yZb95fSQ15_P",
        "outputId": "735ac8e8-63e1-4027-eab9-811aa3d80d62"
      },
      "source": [
        "x = raw_atussum.min()\n",
        "y = raw_atussum.max()\n",
        "[x,y]"
      ],
      "execution_count": 93,
      "outputs": [
        {
          "output_type": "execute_result",
          "data": {
            "text/plain": [
              "[TUCASEID      2.016010e+13\n",
              " TUFINLWGT     6.845048e+05\n",
              " TRYHHCHILD   -1.000000e+00\n",
              " TEAGE         1.500000e+01\n",
              " TESEX         1.000000e+00\n",
              "                   ...     \n",
              " t500101       0.000000e+00\n",
              " t500103       0.000000e+00\n",
              " t500105       0.000000e+00\n",
              " t500106       0.000000e+00\n",
              " t500107       0.000000e+00\n",
              " Length: 423, dtype: float64, TUCASEID      2.016121e+13\n",
              " TUFINLWGT     1.307397e+08\n",
              " TRYHHCHILD    1.700000e+01\n",
              " TEAGE         8.500000e+01\n",
              " TESEX         2.000000e+00\n",
              "                   ...     \n",
              " t500101       6.750000e+02\n",
              " t500103       3.000000e+02\n",
              " t500105       1.680000e+02\n",
              " t500106       1.790000e+02\n",
              " t500107       2.000000e+01\n",
              " Length: 423, dtype: float64]"
            ]
          },
          "metadata": {
            "tags": []
          },
          "execution_count": 93
        }
      ]
    },
    {
      "cell_type": "markdown",
      "metadata": {
        "id": "JScSbSRY54Zn"
      },
      "source": [
        "### *Wie viele insgesamte Einträge wir in allen 3 Datenbanken?*"
      ]
    },
    {
      "cell_type": "code",
      "metadata": {
        "id": "dbLg_nHe54Zo",
        "colab": {
          "base_uri": "https://localhost:8080/"
        },
        "outputId": "ccaffd02-b930-45f7-cbb1-57243d1a099f"
      },
      "source": [
        "x=len(raw_atusrost)\n",
        "y=len(raw_atussum)\n",
        "z=len(raw_ehresp)\n",
        "[x,y,z]"
      ],
      "execution_count": 94,
      "outputs": [
        {
          "output_type": "execute_result",
          "data": {
            "text/plain": [
              "[27884, 10493, 10210]"
            ]
          },
          "metadata": {
            "tags": []
          },
          "execution_count": 94
        }
      ]
    },
    {
      "cell_type": "markdown",
      "metadata": {
        "id": "zQYdXPbs54Zp"
      },
      "source": [
        "### *Wie viele Werte haben wir für Man oder Frau in den Datenbanken?*"
      ]
    },
    {
      "cell_type": "code",
      "metadata": {
        "id": "TsY1Magp54Zp",
        "colab": {
          "base_uri": "https://localhost:8080/"
        },
        "outputId": "1c3609b7-530a-48e4-d5cb-9fcda2687c4d"
      },
      "source": [
        "df_male = raw_atussum[raw_atussum['TESEX'] == 1 ].value_counts().sum() \n",
        "df_female = raw_atussum[raw_atussum['TESEX'] == 2].value_counts().sum()\n",
        "[df_female, df_male]"
      ],
      "execution_count": 95,
      "outputs": [
        {
          "output_type": "execute_result",
          "data": {
            "text/plain": [
              "[5823, 4670]"
            ]
          },
          "metadata": {
            "tags": []
          },
          "execution_count": 95
        }
      ]
    },
    {
      "cell_type": "markdown",
      "metadata": {
        "id": "at6ZZVaD54Zq"
      },
      "source": [
        "### *Wie viele leere Einträge haben wir in allen 3 Datenbanken*"
      ]
    },
    {
      "cell_type": "markdown",
      "metadata": {
        "id": "L-SK_Sx6G2uc"
      },
      "source": [
        "Für die Datenbank *Atussum*:"
      ]
    },
    {
      "cell_type": "code",
      "metadata": {
        "id": "x3VEaCTF54Zq",
        "colab": {
          "base_uri": "https://localhost:8080/"
        },
        "outputId": "4cd4b334-0e2e-423e-caf9-e417a45e3232"
      },
      "source": [
        "df_isna_atussum = raw_atussum.isna().sum()\n",
        "df_isna_atussum = df_isna_atussum.value_counts().sum()\n",
        "df_isna_atussum"
      ],
      "execution_count": 96,
      "outputs": [
        {
          "output_type": "execute_result",
          "data": {
            "text/plain": [
              "423"
            ]
          },
          "metadata": {
            "tags": []
          },
          "execution_count": 96
        }
      ]
    },
    {
      "cell_type": "markdown",
      "metadata": {
        "id": "B9OUSJPOGpcb"
      },
      "source": [
        "Für die Datenbank *Ehresp*:"
      ]
    },
    {
      "cell_type": "code",
      "metadata": {
        "id": "0DwlveWC54Zq",
        "colab": {
          "base_uri": "https://localhost:8080/"
        },
        "outputId": "38654f2f-f085-40e0-ae5f-cd8a05e002c8"
      },
      "source": [
        "df_isna_ehresp= raw_ehresp.isna().sum()\n",
        "df_isna_ehresp= df_isna_ehresp.value_counts().sum()\n",
        "df_isna_ehresp"
      ],
      "execution_count": 97,
      "outputs": [
        {
          "output_type": "execute_result",
          "data": {
            "text/plain": [
              "37"
            ]
          },
          "metadata": {
            "tags": []
          },
          "execution_count": 97
        }
      ]
    },
    {
      "cell_type": "markdown",
      "metadata": {
        "id": "iMmK0Qu6HB4z"
      },
      "source": [
        "Für die Datenbank *Aturost*:"
      ]
    },
    {
      "cell_type": "code",
      "metadata": {
        "colab": {
          "base_uri": "https://localhost:8080/"
        },
        "id": "bmXqjMgbHBp7",
        "outputId": "eef7bcf2-3a21-4a45-d684-5a6dc0d67e4b"
      },
      "source": [
        "df_isna_aturost = raw_atusrost.isna().sum()\n",
        "df_isna_aturost= df_isna_aturost.value_counts().sum()\n",
        "df_isna_aturost"
      ],
      "execution_count": 98,
      "outputs": [
        {
          "output_type": "execute_result",
          "data": {
            "text/plain": [
              "8"
            ]
          },
          "metadata": {
            "tags": []
          },
          "execution_count": 98
        }
      ]
    },
    {
      "cell_type": "markdown",
      "metadata": {
        "id": "j8uN9CeF54Zr"
      },
      "source": [
        "### *Zusammenführen von den Datenbanken: Atussum & Ehresp in ein neues Dataframe merged_inner*"
      ]
    },
    {
      "cell_type": "code",
      "metadata": {
        "id": "d3q8Ivai54Zs",
        "colab": {
          "base_uri": "https://localhost:8080/",
          "height": 0
        },
        "outputId": "ae9677e5-87a2-4c93-e6e4-d71a8f05bf91"
      },
      "source": [
        "merged_inner = pd.merge(raw_atussum,raw_ehresp, on = 'TUCASEID', how ='outer')\n",
        "merged_inner.head()"
      ],
      "execution_count": 99,
      "outputs": [
        {
          "output_type": "execute_result",
          "data": {
            "text/html": [
              "<div>\n",
              "<style scoped>\n",
              "    .dataframe tbody tr th:only-of-type {\n",
              "        vertical-align: middle;\n",
              "    }\n",
              "\n",
              "    .dataframe tbody tr th {\n",
              "        vertical-align: top;\n",
              "    }\n",
              "\n",
              "    .dataframe thead th {\n",
              "        text-align: right;\n",
              "    }\n",
              "</style>\n",
              "<table border=\"1\" class=\"dataframe\">\n",
              "  <thead>\n",
              "    <tr style=\"text-align: right;\">\n",
              "      <th></th>\n",
              "      <th>TUCASEID</th>\n",
              "      <th>TUFINLWGT</th>\n",
              "      <th>TRYHHCHILD</th>\n",
              "      <th>TEAGE</th>\n",
              "      <th>TESEX</th>\n",
              "      <th>PEEDUCA</th>\n",
              "      <th>PTDTRACE</th>\n",
              "      <th>PEHSPNON</th>\n",
              "      <th>GTMETSTA</th>\n",
              "      <th>TELFS</th>\n",
              "      <th>TEMJOT</th>\n",
              "      <th>TRDPFTPT</th>\n",
              "      <th>TESCHENR</th>\n",
              "      <th>TESCHLVL</th>\n",
              "      <th>TRSPPRES</th>\n",
              "      <th>TESPEMPNOT</th>\n",
              "      <th>TRERNWA</th>\n",
              "      <th>TRCHILDNUM</th>\n",
              "      <th>TRSPFTPT</th>\n",
              "      <th>TEHRUSLT</th>\n",
              "      <th>TUDIARYDAY</th>\n",
              "      <th>TRHOLIDAY</th>\n",
              "      <th>TRTEC</th>\n",
              "      <th>TRTHH</th>\n",
              "      <th>t010101</th>\n",
              "      <th>t010102</th>\n",
              "      <th>t010201</th>\n",
              "      <th>t010299</th>\n",
              "      <th>t010301</th>\n",
              "      <th>t010399</th>\n",
              "      <th>t010401</th>\n",
              "      <th>t010499</th>\n",
              "      <th>t020101</th>\n",
              "      <th>t020102</th>\n",
              "      <th>t020103</th>\n",
              "      <th>t020104</th>\n",
              "      <th>t020199</th>\n",
              "      <th>t020201</th>\n",
              "      <th>t020202</th>\n",
              "      <th>t020203</th>\n",
              "      <th>...</th>\n",
              "      <th>t500103</th>\n",
              "      <th>t500105</th>\n",
              "      <th>t500106</th>\n",
              "      <th>t500107</th>\n",
              "      <th>TULINENO</th>\n",
              "      <th>EEINCOME1</th>\n",
              "      <th>ERBMI</th>\n",
              "      <th>ERHHCH</th>\n",
              "      <th>ERINCOME</th>\n",
              "      <th>ERSPEMCH</th>\n",
              "      <th>ERTPREAT</th>\n",
              "      <th>ERTSEAT</th>\n",
              "      <th>ETHGT</th>\n",
              "      <th>ETWGT</th>\n",
              "      <th>EUDIETSODA</th>\n",
              "      <th>EUDRINK</th>\n",
              "      <th>EUEAT</th>\n",
              "      <th>EUEXERCISE</th>\n",
              "      <th>EUEXFREQ</th>\n",
              "      <th>EUFASTFD</th>\n",
              "      <th>EUFASTFDFRQ</th>\n",
              "      <th>EUFFYDAY</th>\n",
              "      <th>EUFDSIT</th>\n",
              "      <th>EUFINLWGT</th>\n",
              "      <th>EUSNAP</th>\n",
              "      <th>EUGENHTH</th>\n",
              "      <th>EUGROSHP</th>\n",
              "      <th>EUHGT</th>\n",
              "      <th>EUINCLVL</th>\n",
              "      <th>EUINCOME2</th>\n",
              "      <th>EUMEAT</th>\n",
              "      <th>EUMILK</th>\n",
              "      <th>EUPRPMEL</th>\n",
              "      <th>EUSODA</th>\n",
              "      <th>EUSTORES</th>\n",
              "      <th>EUSTREASON</th>\n",
              "      <th>EUTHERM</th>\n",
              "      <th>EUWGT</th>\n",
              "      <th>EUWIC</th>\n",
              "      <th>EXINCOME1</th>\n",
              "    </tr>\n",
              "  </thead>\n",
              "  <tbody>\n",
              "    <tr>\n",
              "      <th>0</th>\n",
              "      <td>20160101160045</td>\n",
              "      <td>2.458865e+07</td>\n",
              "      <td>-1</td>\n",
              "      <td>62</td>\n",
              "      <td>2</td>\n",
              "      <td>39</td>\n",
              "      <td>1</td>\n",
              "      <td>2</td>\n",
              "      <td>1</td>\n",
              "      <td>5</td>\n",
              "      <td>-1</td>\n",
              "      <td>-1</td>\n",
              "      <td>-1</td>\n",
              "      <td>-1</td>\n",
              "      <td>1</td>\n",
              "      <td>2</td>\n",
              "      <td>-1</td>\n",
              "      <td>0</td>\n",
              "      <td>-1</td>\n",
              "      <td>-1</td>\n",
              "      <td>6</td>\n",
              "      <td>0</td>\n",
              "      <td>-1</td>\n",
              "      <td>0</td>\n",
              "      <td>690</td>\n",
              "      <td>0</td>\n",
              "      <td>25</td>\n",
              "      <td>0</td>\n",
              "      <td>0</td>\n",
              "      <td>0</td>\n",
              "      <td>0</td>\n",
              "      <td>0</td>\n",
              "      <td>75</td>\n",
              "      <td>6</td>\n",
              "      <td>0</td>\n",
              "      <td>0</td>\n",
              "      <td>0</td>\n",
              "      <td>50</td>\n",
              "      <td>0</td>\n",
              "      <td>45</td>\n",
              "      <td>...</td>\n",
              "      <td>0</td>\n",
              "      <td>0</td>\n",
              "      <td>0</td>\n",
              "      <td>0</td>\n",
              "      <td>1.0</td>\n",
              "      <td>2.0</td>\n",
              "      <td>26.6</td>\n",
              "      <td>3.0</td>\n",
              "      <td>3.0</td>\n",
              "      <td>5.0</td>\n",
              "      <td>40.0</td>\n",
              "      <td>0.0</td>\n",
              "      <td>0.0</td>\n",
              "      <td>0.0</td>\n",
              "      <td>-1.0</td>\n",
              "      <td>1.0</td>\n",
              "      <td>2.0</td>\n",
              "      <td>2.0</td>\n",
              "      <td>-1.0</td>\n",
              "      <td>2.0</td>\n",
              "      <td>-1.0</td>\n",
              "      <td>-1.0</td>\n",
              "      <td>1.0</td>\n",
              "      <td>2.529098e+07</td>\n",
              "      <td>2.0</td>\n",
              "      <td>3.0</td>\n",
              "      <td>1.0</td>\n",
              "      <td>66.0</td>\n",
              "      <td>7.0</td>\n",
              "      <td>1.0</td>\n",
              "      <td>1.0</td>\n",
              "      <td>2.0</td>\n",
              "      <td>1.0</td>\n",
              "      <td>2.0</td>\n",
              "      <td>2.0</td>\n",
              "      <td>4.0</td>\n",
              "      <td>2.0</td>\n",
              "      <td>165.0</td>\n",
              "      <td>-1.0</td>\n",
              "      <td>0.0</td>\n",
              "    </tr>\n",
              "    <tr>\n",
              "      <th>1</th>\n",
              "      <td>20160101160066</td>\n",
              "      <td>5.445941e+06</td>\n",
              "      <td>-1</td>\n",
              "      <td>69</td>\n",
              "      <td>1</td>\n",
              "      <td>37</td>\n",
              "      <td>2</td>\n",
              "      <td>2</td>\n",
              "      <td>2</td>\n",
              "      <td>5</td>\n",
              "      <td>-1</td>\n",
              "      <td>-1</td>\n",
              "      <td>-1</td>\n",
              "      <td>-1</td>\n",
              "      <td>1</td>\n",
              "      <td>2</td>\n",
              "      <td>-1</td>\n",
              "      <td>0</td>\n",
              "      <td>-1</td>\n",
              "      <td>-1</td>\n",
              "      <td>1</td>\n",
              "      <td>0</td>\n",
              "      <td>30</td>\n",
              "      <td>0</td>\n",
              "      <td>600</td>\n",
              "      <td>0</td>\n",
              "      <td>20</td>\n",
              "      <td>0</td>\n",
              "      <td>0</td>\n",
              "      <td>0</td>\n",
              "      <td>0</td>\n",
              "      <td>0</td>\n",
              "      <td>60</td>\n",
              "      <td>0</td>\n",
              "      <td>0</td>\n",
              "      <td>0</td>\n",
              "      <td>0</td>\n",
              "      <td>150</td>\n",
              "      <td>0</td>\n",
              "      <td>0</td>\n",
              "      <td>...</td>\n",
              "      <td>0</td>\n",
              "      <td>0</td>\n",
              "      <td>0</td>\n",
              "      <td>0</td>\n",
              "      <td>1.0</td>\n",
              "      <td>2.0</td>\n",
              "      <td>44.3</td>\n",
              "      <td>3.0</td>\n",
              "      <td>3.0</td>\n",
              "      <td>5.0</td>\n",
              "      <td>30.0</td>\n",
              "      <td>15.0</td>\n",
              "      <td>0.0</td>\n",
              "      <td>0.0</td>\n",
              "      <td>-1.0</td>\n",
              "      <td>2.0</td>\n",
              "      <td>1.0</td>\n",
              "      <td>1.0</td>\n",
              "      <td>2.0</td>\n",
              "      <td>2.0</td>\n",
              "      <td>-1.0</td>\n",
              "      <td>-1.0</td>\n",
              "      <td>1.0</td>\n",
              "      <td>6.301579e+06</td>\n",
              "      <td>2.0</td>\n",
              "      <td>4.0</td>\n",
              "      <td>1.0</td>\n",
              "      <td>69.0</td>\n",
              "      <td>7.0</td>\n",
              "      <td>1.0</td>\n",
              "      <td>1.0</td>\n",
              "      <td>2.0</td>\n",
              "      <td>1.0</td>\n",
              "      <td>-1.0</td>\n",
              "      <td>1.0</td>\n",
              "      <td>2.0</td>\n",
              "      <td>2.0</td>\n",
              "      <td>300.0</td>\n",
              "      <td>-1.0</td>\n",
              "      <td>0.0</td>\n",
              "    </tr>\n",
              "    <tr>\n",
              "      <th>2</th>\n",
              "      <td>20160101160069</td>\n",
              "      <td>8.782622e+06</td>\n",
              "      <td>0</td>\n",
              "      <td>24</td>\n",
              "      <td>2</td>\n",
              "      <td>39</td>\n",
              "      <td>2</td>\n",
              "      <td>2</td>\n",
              "      <td>1</td>\n",
              "      <td>5</td>\n",
              "      <td>-1</td>\n",
              "      <td>-1</td>\n",
              "      <td>2</td>\n",
              "      <td>-1</td>\n",
              "      <td>3</td>\n",
              "      <td>-1</td>\n",
              "      <td>-1</td>\n",
              "      <td>2</td>\n",
              "      <td>-1</td>\n",
              "      <td>-1</td>\n",
              "      <td>1</td>\n",
              "      <td>0</td>\n",
              "      <td>-1</td>\n",
              "      <td>380</td>\n",
              "      <td>940</td>\n",
              "      <td>0</td>\n",
              "      <td>120</td>\n",
              "      <td>0</td>\n",
              "      <td>0</td>\n",
              "      <td>0</td>\n",
              "      <td>0</td>\n",
              "      <td>0</td>\n",
              "      <td>0</td>\n",
              "      <td>0</td>\n",
              "      <td>0</td>\n",
              "      <td>30</td>\n",
              "      <td>0</td>\n",
              "      <td>75</td>\n",
              "      <td>0</td>\n",
              "      <td>0</td>\n",
              "      <td>...</td>\n",
              "      <td>0</td>\n",
              "      <td>0</td>\n",
              "      <td>0</td>\n",
              "      <td>0</td>\n",
              "      <td>1.0</td>\n",
              "      <td>2.0</td>\n",
              "      <td>24.5</td>\n",
              "      <td>3.0</td>\n",
              "      <td>5.0</td>\n",
              "      <td>-1.0</td>\n",
              "      <td>75.0</td>\n",
              "      <td>0.0</td>\n",
              "      <td>0.0</td>\n",
              "      <td>0.0</td>\n",
              "      <td>-1.0</td>\n",
              "      <td>2.0</td>\n",
              "      <td>2.0</td>\n",
              "      <td>1.0</td>\n",
              "      <td>1.0</td>\n",
              "      <td>2.0</td>\n",
              "      <td>-1.0</td>\n",
              "      <td>-1.0</td>\n",
              "      <td>1.0</td>\n",
              "      <td>9.545378e+06</td>\n",
              "      <td>1.0</td>\n",
              "      <td>2.0</td>\n",
              "      <td>1.0</td>\n",
              "      <td>64.0</td>\n",
              "      <td>7.0</td>\n",
              "      <td>2.0</td>\n",
              "      <td>1.0</td>\n",
              "      <td>2.0</td>\n",
              "      <td>1.0</td>\n",
              "      <td>-1.0</td>\n",
              "      <td>1.0</td>\n",
              "      <td>5.0</td>\n",
              "      <td>1.0</td>\n",
              "      <td>143.0</td>\n",
              "      <td>2.0</td>\n",
              "      <td>0.0</td>\n",
              "    </tr>\n",
              "    <tr>\n",
              "      <th>3</th>\n",
              "      <td>20160101160083</td>\n",
              "      <td>3.035910e+06</td>\n",
              "      <td>8</td>\n",
              "      <td>31</td>\n",
              "      <td>2</td>\n",
              "      <td>40</td>\n",
              "      <td>1</td>\n",
              "      <td>2</td>\n",
              "      <td>2</td>\n",
              "      <td>1</td>\n",
              "      <td>2</td>\n",
              "      <td>2</td>\n",
              "      <td>2</td>\n",
              "      <td>-1</td>\n",
              "      <td>3</td>\n",
              "      <td>-1</td>\n",
              "      <td>46944</td>\n",
              "      <td>3</td>\n",
              "      <td>-1</td>\n",
              "      <td>32</td>\n",
              "      <td>1</td>\n",
              "      <td>0</td>\n",
              "      <td>-1</td>\n",
              "      <td>705</td>\n",
              "      <td>635</td>\n",
              "      <td>0</td>\n",
              "      <td>20</td>\n",
              "      <td>0</td>\n",
              "      <td>0</td>\n",
              "      <td>0</td>\n",
              "      <td>0</td>\n",
              "      <td>0</td>\n",
              "      <td>20</td>\n",
              "      <td>50</td>\n",
              "      <td>65</td>\n",
              "      <td>60</td>\n",
              "      <td>0</td>\n",
              "      <td>90</td>\n",
              "      <td>0</td>\n",
              "      <td>50</td>\n",
              "      <td>...</td>\n",
              "      <td>0</td>\n",
              "      <td>0</td>\n",
              "      <td>0</td>\n",
              "      <td>0</td>\n",
              "      <td>1.0</td>\n",
              "      <td>2.0</td>\n",
              "      <td>21.2</td>\n",
              "      <td>1.0</td>\n",
              "      <td>5.0</td>\n",
              "      <td>-1.0</td>\n",
              "      <td>165.0</td>\n",
              "      <td>0.0</td>\n",
              "      <td>0.0</td>\n",
              "      <td>2.0</td>\n",
              "      <td>-1.0</td>\n",
              "      <td>1.0</td>\n",
              "      <td>2.0</td>\n",
              "      <td>1.0</td>\n",
              "      <td>3.0</td>\n",
              "      <td>2.0</td>\n",
              "      <td>-1.0</td>\n",
              "      <td>-1.0</td>\n",
              "      <td>1.0</td>\n",
              "      <td>3.034797e+06</td>\n",
              "      <td>1.0</td>\n",
              "      <td>3.0</td>\n",
              "      <td>1.0</td>\n",
              "      <td>57.0</td>\n",
              "      <td>7.0</td>\n",
              "      <td>2.0</td>\n",
              "      <td>1.0</td>\n",
              "      <td>2.0</td>\n",
              "      <td>1.0</td>\n",
              "      <td>2.0</td>\n",
              "      <td>1.0</td>\n",
              "      <td>1.0</td>\n",
              "      <td>2.0</td>\n",
              "      <td>98.0</td>\n",
              "      <td>2.0</td>\n",
              "      <td>0.0</td>\n",
              "    </tr>\n",
              "    <tr>\n",
              "      <th>4</th>\n",
              "      <td>20160101160084</td>\n",
              "      <td>6.978586e+06</td>\n",
              "      <td>-1</td>\n",
              "      <td>59</td>\n",
              "      <td>2</td>\n",
              "      <td>39</td>\n",
              "      <td>1</td>\n",
              "      <td>2</td>\n",
              "      <td>1</td>\n",
              "      <td>1</td>\n",
              "      <td>1</td>\n",
              "      <td>2</td>\n",
              "      <td>-1</td>\n",
              "      <td>-1</td>\n",
              "      <td>1</td>\n",
              "      <td>2</td>\n",
              "      <td>30250</td>\n",
              "      <td>0</td>\n",
              "      <td>-1</td>\n",
              "      <td>12</td>\n",
              "      <td>1</td>\n",
              "      <td>0</td>\n",
              "      <td>-1</td>\n",
              "      <td>0</td>\n",
              "      <td>500</td>\n",
              "      <td>0</td>\n",
              "      <td>80</td>\n",
              "      <td>0</td>\n",
              "      <td>0</td>\n",
              "      <td>0</td>\n",
              "      <td>0</td>\n",
              "      <td>0</td>\n",
              "      <td>30</td>\n",
              "      <td>25</td>\n",
              "      <td>0</td>\n",
              "      <td>0</td>\n",
              "      <td>0</td>\n",
              "      <td>0</td>\n",
              "      <td>0</td>\n",
              "      <td>0</td>\n",
              "      <td>...</td>\n",
              "      <td>0</td>\n",
              "      <td>0</td>\n",
              "      <td>0</td>\n",
              "      <td>0</td>\n",
              "      <td>1.0</td>\n",
              "      <td>1.0</td>\n",
              "      <td>29.7</td>\n",
              "      <td>3.0</td>\n",
              "      <td>1.0</td>\n",
              "      <td>3.0</td>\n",
              "      <td>30.0</td>\n",
              "      <td>27.0</td>\n",
              "      <td>0.0</td>\n",
              "      <td>0.0</td>\n",
              "      <td>-1.0</td>\n",
              "      <td>1.0</td>\n",
              "      <td>1.0</td>\n",
              "      <td>2.0</td>\n",
              "      <td>-1.0</td>\n",
              "      <td>2.0</td>\n",
              "      <td>-1.0</td>\n",
              "      <td>-1.0</td>\n",
              "      <td>1.0</td>\n",
              "      <td>7.238641e+06</td>\n",
              "      <td>2.0</td>\n",
              "      <td>2.0</td>\n",
              "      <td>1.0</td>\n",
              "      <td>64.0</td>\n",
              "      <td>7.0</td>\n",
              "      <td>-1.0</td>\n",
              "      <td>2.0</td>\n",
              "      <td>2.0</td>\n",
              "      <td>3.0</td>\n",
              "      <td>2.0</td>\n",
              "      <td>1.0</td>\n",
              "      <td>1.0</td>\n",
              "      <td>-1.0</td>\n",
              "      <td>173.0</td>\n",
              "      <td>-1.0</td>\n",
              "      <td>0.0</td>\n",
              "    </tr>\n",
              "  </tbody>\n",
              "</table>\n",
              "<p>5 rows × 459 columns</p>\n",
              "</div>"
            ],
            "text/plain": [
              "         TUCASEID     TUFINLWGT  TRYHHCHILD  ...  EUWGT  EUWIC  EXINCOME1\n",
              "0  20160101160045  2.458865e+07          -1  ...  165.0   -1.0        0.0\n",
              "1  20160101160066  5.445941e+06          -1  ...  300.0   -1.0        0.0\n",
              "2  20160101160069  8.782622e+06           0  ...  143.0    2.0        0.0\n",
              "3  20160101160083  3.035910e+06           8  ...   98.0    2.0        0.0\n",
              "4  20160101160084  6.978586e+06          -1  ...  173.0   -1.0        0.0\n",
              "\n",
              "[5 rows x 459 columns]"
            ]
          },
          "metadata": {
            "tags": []
          },
          "execution_count": 99
        }
      ]
    },
    {
      "cell_type": "markdown",
      "metadata": {
        "id": "YyE24gNOIJnX"
      },
      "source": [
        "Check wie viele leere Einträge wir für ERBMI haben"
      ]
    },
    {
      "cell_type": "code",
      "metadata": {
        "id": "mstek12cGcvH",
        "colab": {
          "base_uri": "https://localhost:8080/"
        },
        "outputId": "ebb80740-4e96-48b9-ff70-15895dbe7e0e"
      },
      "source": [
        "merged_inner['ERBMI'].isna().sum()"
      ],
      "execution_count": 100,
      "outputs": [
        {
          "output_type": "execute_result",
          "data": {
            "text/plain": [
              "283"
            ]
          },
          "metadata": {
            "tags": []
          },
          "execution_count": 100
        }
      ]
    },
    {
      "cell_type": "markdown",
      "metadata": {
        "id": "XAOJoipj9ebu"
      },
      "source": [
        "### *Alle Ungültige Werte (0,-1) durch Nan ersetzen*"
      ]
    },
    {
      "cell_type": "markdown",
      "metadata": {
        "id": "Wihd5k0FKHsI"
      },
      "source": [
        "Funktion zur Löschung der unglütigen Werte < 0"
      ]
    },
    {
      "cell_type": "code",
      "metadata": {
        "id": "UvThdlNH9FI8"
      },
      "source": [
        "def unglueltige_Werte_loeschen(df,c):\n",
        "    for x in df[c]:\n",
        "        if x < 1: \n",
        "            df[c] = df[c].replace([x],np.NaN)"
      ],
      "execution_count": 101,
      "outputs": []
    },
    {
      "cell_type": "markdown",
      "metadata": {
        "id": "_7OnVUEcKCmO"
      },
      "source": [
        "Funktionsparameter übergeben"
      ]
    },
    {
      "cell_type": "code",
      "metadata": {
        "id": "EYQZviXI85CE"
      },
      "source": [
        "unglueltige_Werte_loeschen(merged_inner, 'ERBMI')\n",
        "\n",
        "#list(merged_inner['ERBMI'][::])"
      ],
      "execution_count": 102,
      "outputs": []
    },
    {
      "cell_type": "markdown",
      "metadata": {
        "id": "H_R_8IL-54Zs"
      },
      "source": [
        "### *Spliten zwischen Mann und Frau in zwei neue Datenbanken*"
      ]
    },
    {
      "cell_type": "code",
      "metadata": {
        "id": "HYInf5B654Zs"
      },
      "source": [
        "merged_inner_male = merged_inner[merged_inner['TESEX'] == 1 ]\n",
        "merged_inner_female = merged_inner[merged_inner['TESEX'] == 2]"
      ],
      "execution_count": 103,
      "outputs": []
    },
    {
      "cell_type": "markdown",
      "metadata": {
        "id": "3uoi3JYvJl3B"
      },
      "source": [
        "Print Tabellen\n"
      ]
    },
    {
      "cell_type": "code",
      "metadata": {
        "id": "UFwyH3XQJkHM",
        "colab": {
          "base_uri": "https://localhost:8080/"
        },
        "outputId": "a72401b4-02a3-4238-bbc0-32a010c70955"
      },
      "source": [
        "[merged_inner_male, merged_inner_female]"
      ],
      "execution_count": 104,
      "outputs": [
        {
          "output_type": "execute_result",
          "data": {
            "text/plain": [
              "[             TUCASEID     TUFINLWGT  TRYHHCHILD  ...  EUWGT  EUWIC  EXINCOME1\n",
              " 1      20160101160066  5.445941e+06          -1  ...  300.0   -1.0        0.0\n",
              " 8      20160101160139  9.112257e+06          -1  ...  215.0   -1.0        0.0\n",
              " 10     20160101160546  3.165768e+06           1  ...  208.0    2.0        0.0\n",
              " 16     20160101160573  9.150706e+06          16  ...  170.0    2.0       73.0\n",
              " 17     20160101160574  1.299119e+06          13  ...  267.0    2.0        0.0\n",
              " ...               ...           ...         ...  ...    ...    ...        ...\n",
              " 10482  20161212162015  2.775790e+06          -1  ...  158.0   -1.0        0.0\n",
              " 10483  20161212162045  1.985660e+07          17  ...  168.0   -1.0       73.0\n",
              " 10486  20161212162212  1.986985e+07          -1  ...  180.0   -1.0        0.0\n",
              " 10489  20161212162357  4.899612e+06          -1  ...  174.0   -1.0        0.0\n",
              " 10490  20161212162426  1.597792e+07          -1  ...  158.0   -1.0        0.0\n",
              " \n",
              " [4670 rows x 459 columns],\n",
              "              TUCASEID     TUFINLWGT  TRYHHCHILD  ...  EUWGT  EUWIC  EXINCOME1\n",
              " 0      20160101160045  2.458865e+07          -1  ...  165.0   -1.0        0.0\n",
              " 2      20160101160069  8.782622e+06           0  ...  143.0    2.0        0.0\n",
              " 3      20160101160083  3.035910e+06           8  ...   98.0    2.0        0.0\n",
              " 4      20160101160084  6.978586e+06          -1  ...  173.0   -1.0        0.0\n",
              " 5      20160101160094  5.191610e+06           4  ...  158.0    1.0        0.0\n",
              " ...               ...           ...         ...  ...    ...    ...        ...\n",
              " 10485  20161212162091  7.209622e+06          -1  ...  115.0   -1.0        0.0\n",
              " 10487  20161212162217  1.682211e+07          -1  ...   -2.0   -1.0        0.0\n",
              " 10488  20161212162307  1.295883e+07          -1  ...  202.0   -1.0        0.0\n",
              " 10491  20161212162456  6.280644e+06          -1  ...  270.0   -1.0        0.0\n",
              " 10492  20161212162509  1.485405e+07          12  ...  150.0    2.0       73.0\n",
              " \n",
              " [5823 rows x 459 columns]]"
            ]
          },
          "metadata": {
            "tags": []
          },
          "execution_count": 104
        }
      ]
    },
    {
      "cell_type": "markdown",
      "metadata": {
        "id": "7FAUUZht54Zt"
      },
      "source": [
        "### *Alle Prädiktionen die mit dem BMI oder Gewicht verbunden sind, wurden gelöscht.*"
      ]
    },
    {
      "cell_type": "code",
      "metadata": {
        "id": "C48O0bIJ54Zt"
      },
      "source": [
        "#merged_male.iloc[::]['ERBMI'] \n",
        "#merged_female.columns"
      ],
      "execution_count": 105,
      "outputs": []
    },
    {
      "cell_type": "code",
      "metadata": {
        "id": "5RN8DA4p54Zt",
        "colab": {
          "base_uri": "https://localhost:8080/",
          "height": 209
        },
        "outputId": "69c95dad-e57c-4508-c79c-872c82e8f8be"
      },
      "source": [
        "merged_male.describe(include='all').T\n",
        "merged_male['ERBMI'].isna().sum()\n",
        "merged_male.isna().sum()\n"
      ],
      "execution_count": 106,
      "outputs": [
        {
          "output_type": "error",
          "ename": "NameError",
          "evalue": "ignored",
          "traceback": [
            "\u001b[0;31m---------------------------------------------------------------------------\u001b[0m",
            "\u001b[0;31mNameError\u001b[0m                                 Traceback (most recent call last)",
            "\u001b[0;32m<ipython-input-106-0c028a9c6126>\u001b[0m in \u001b[0;36m<module>\u001b[0;34m()\u001b[0m\n\u001b[0;32m----> 1\u001b[0;31m \u001b[0mmerged_male\u001b[0m\u001b[0;34m.\u001b[0m\u001b[0mdescribe\u001b[0m\u001b[0;34m(\u001b[0m\u001b[0minclude\u001b[0m\u001b[0;34m=\u001b[0m\u001b[0;34m'all'\u001b[0m\u001b[0;34m)\u001b[0m\u001b[0;34m.\u001b[0m\u001b[0mT\u001b[0m\u001b[0;34m\u001b[0m\u001b[0;34m\u001b[0m\u001b[0m\n\u001b[0m\u001b[1;32m      2\u001b[0m \u001b[0mmerged_male\u001b[0m\u001b[0;34m[\u001b[0m\u001b[0;34m'ERBMI'\u001b[0m\u001b[0;34m]\u001b[0m\u001b[0;34m.\u001b[0m\u001b[0misna\u001b[0m\u001b[0;34m(\u001b[0m\u001b[0;34m)\u001b[0m\u001b[0;34m.\u001b[0m\u001b[0msum\u001b[0m\u001b[0;34m(\u001b[0m\u001b[0;34m)\u001b[0m\u001b[0;34m\u001b[0m\u001b[0;34m\u001b[0m\u001b[0m\n\u001b[1;32m      3\u001b[0m \u001b[0mmerged_male\u001b[0m\u001b[0;34m.\u001b[0m\u001b[0misna\u001b[0m\u001b[0;34m(\u001b[0m\u001b[0;34m)\u001b[0m\u001b[0;34m.\u001b[0m\u001b[0msum\u001b[0m\u001b[0;34m(\u001b[0m\u001b[0;34m)\u001b[0m\u001b[0;34m\u001b[0m\u001b[0;34m\u001b[0m\u001b[0m\n",
            "\u001b[0;31mNameError\u001b[0m: name 'merged_male' is not defined"
          ]
        }
      ]
    },
    {
      "cell_type": "code",
      "metadata": {
        "id": "LuEK7Szk54Zu"
      },
      "source": [
        "merged_female.describe(include='all').T\n",
        "merged_female['ERBMI'].isna().sum()\n",
        "merged_male.isna().sum()"
      ],
      "execution_count": null,
      "outputs": []
    },
    {
      "cell_type": "markdown",
      "metadata": {
        "id": "sGNumoKfLU49"
      },
      "source": [
        "## **Visualisieren Sie die Ergebnisse**"
      ]
    },
    {
      "cell_type": "code",
      "metadata": {
        "id": "4RUZkX--54Zu"
      },
      "source": [
        "#fig = go.Figure()\n",
        "#fig.add_trace(go.Histogram(x=df_mean[df_mean['Sex'] == 'male']['Age'], name='Male'))\n",
        "#fig.add_trace(go.Histogram(x=df_mean[df_mean['Sex'] == 'female']['Age'], name='Female'))\n",
        "#fig.update_traces(opacity=0.75, xbins=dict(start=10.0,end=70.0,size=5))\n",
        "#fig.show()\n",
        "\n",
        "fig = go.Figure()\n",
        "fig.add_trace(go.Histogram(x=merged_inner[merged_inner['TESEX'] == 1] ['ERBMI'] , name='Male'))\n",
        "fig.add_trace(go.Histogram(x=merged_inner[merged_inner['TESEX'] == 2] ['ERBMI'] , name='Female'))\n",
        "fig.update_traces(opacity = 0.75, xbins=dict(start=0, end= 65, size=5 ))\n",
        "fig.show()\n"
      ],
      "execution_count": null,
      "outputs": []
    },
    {
      "cell_type": "code",
      "metadata": {
        "id": "DGDdxhMX54Zu"
      },
      "source": [
        "fig= go.Figure()\n",
        "fig.add_trace(go.Histogram(x=merged_inner[merged_inner['TESEX'] == 1] ['TEAGE'] , name='Male'))\n",
        "fig.add_trace(go.Histogram(x=merged_inner[merged_inner['TESEX'] == 2] ['TEAGE'] , name='Female'))\n",
        "fig.update_traces(opacity = 0.75, xbins=dict(start=15, end= 65, size=5 ))\n",
        "fig.show()\n"
      ],
      "execution_count": null,
      "outputs": []
    },
    {
      "cell_type": "markdown",
      "metadata": {
        "id": "K4GwjUIxLaiS"
      },
      "source": [
        "## **Bereinigen der Daten, indem ungültige Einträge entfernen oder mit geeigneten Werten füllen**"
      ]
    },
    {
      "cell_type": "code",
      "metadata": {
        "id": "ULMFDg3t54Zv"
      },
      "source": [
        "def calc_data_stats(df, feature_name):\n",
        "    return pd.DataFrame(dict(\n",
        "        feature=feature_name,\n",
        "        mean=df.mean(),\n",
        "        median=df.median(),\n",
        "        #mode=df.mode(numeric_only=True).T[0],\n",
        "        mode=df.mode(),\n",
        "        std=df.std(),\n",
        "    ))\n",
        "ERBMI_stats = calc_data_stats(merged_inner['ERBMI'],'ERBMI STATS' )\n",
        "EUGHT_stats = calc_data_stats(merged_inner['EUHGT'],'EUHGT STATS')"
      ],
      "execution_count": null,
      "outputs": []
    },
    {
      "cell_type": "code",
      "metadata": {
        "id": "jO7FGBK954Zv"
      },
      "source": [
        "df_meanF= merged_female.copy()\n",
        "mean_val_W=df_meanF['ERBMI'].mean()\n",
        "df_meanF['ERBMI'].fillna(df_meanF['ERBMI'].mean(), inplace=True)\n",
        "df_meanF['EUHGT'].fillna(df_meanF['EUHGT'].mean(), inplace= True)\n",
        "df_meanF['ERBMI'].isna().sum()\n",
        "df_meanF['EUHGT'].isna().sum()"
      ],
      "execution_count": null,
      "outputs": []
    },
    {
      "cell_type": "code",
      "metadata": {
        "id": "c_uyGkKt54Zv"
      },
      "source": [
        "df_meanM = merged_male.copy()\n",
        "mean_val_M=df_meanM['ERBMI'].mean()\n",
        "mean_val_mHeight= df_meanM['EUHGT'].mean()\n",
        "mean_val_wHeight= df_meanF['EUHGT'].mean()\n",
        "df_meanM['ERBMI'].fillna(df_meanM['ERBMI'].mean(), inplace=True)\n",
        "df_meanM['EUHGT'].fillna(df_meanM['EUHGT'].mean(), inplace=True)\n",
        "df_meanM['ERBMI'].isna().sum()\n",
        "df_meanM['EUHGT'].isna().sum()"
      ],
      "execution_count": null,
      "outputs": []
    },
    {
      "cell_type": "code",
      "metadata": {
        "id": "0uUmZmUv54Zw"
      },
      "source": [
        "df_mean = merged_inner.copy()\n",
        "df_mean\n",
        "print(df_mean['ERBMI'].mean())\n",
        "df_mean['ERBMI'].fillna(df_mean['ERBMI'].mean(), inplace=True)"
      ],
      "execution_count": null,
      "outputs": []
    },
    {
      "cell_type": "code",
      "metadata": {
        "id": "hQLQcMVU54Zw"
      },
      "source": [
        "def Fill_Mean(df,ERBMI_val,c):\n",
        "    for x in df[c]:\n",
        "        if x < 1: \n",
        "            df[c] = df[c].replace([x],ERBMI_val)"
      ],
      "execution_count": null,
      "outputs": []
    },
    {
      "cell_type": "code",
      "metadata": {
        "id": "lgSqocPb54Zx"
      },
      "source": [
        "fig= go.Figure()\n",
        "fig.add_trace(go.Histogram(x=merged_inner[merged_inner['TESEX'] == 1] ['ERBMI'] , name='Male'))\n",
        "fig.add_trace(go.Histogram(x=merged_inner[merged_inner['TESEX'] == 2] ['ERBMI'] , name='Female'))\n",
        "fig.update_traces(opacity = 0.75, xbins=dict(start=-5, end= 65, size=5 ))\n",
        "fig.show()\n"
      ],
      "execution_count": null,
      "outputs": []
    },
    {
      "cell_type": "code",
      "metadata": {
        "id": "-xpbsrNU54Zx"
      },
      "source": [
        "fig= go.Figure()\n",
        "fig.add_trace(go.Histogram(x=df_meanM[df_meanM['TESEX'] == 1] ['ERBMI'] , name='Male'))\n",
        "fig.add_trace(go.Histogram(x=df_meanF[df_meanF['TESEX'] == 2] ['ERBMI'] , name='Female'))\n",
        "fig.update_traces(opacity = 0.75, xbins=dict(start=-5, end= 65, size=5 ))\n",
        "fig.show()"
      ],
      "execution_count": null,
      "outputs": []
    },
    {
      "cell_type": "code",
      "metadata": {
        "id": "GaaCSgCX54Zx"
      },
      "source": [
        "fig= go.Figure()\n",
        "fig.add_trace(go.Histogram(x=df_mean[df_mean['TESEX'] == 1] ['ERBMI'] , name='Male'))\n",
        "fig.add_trace(go.Histogram(x=df_mean[df_mean['TESEX'] == 2] ['ERBMI'] , name='Female'))\n",
        "fig.update_traces(opacity = 0.75, xbins=dict(start=-5, end= 65, size=5 ))\n",
        "fig.show()\n"
      ],
      "execution_count": null,
      "outputs": []
    },
    {
      "cell_type": "markdown",
      "metadata": {
        "id": "HNtDeFBs9WWU"
      },
      "source": [
        "## **Alle Prädiktionen die mit dem BMI oder Gewicht verbunden sind, wurden gelöscht.**\n"
      ]
    },
    {
      "cell_type": "code",
      "metadata": {
        "id": "UevKBIX-54Zt"
      },
      "source": [
        "merged_male = merged_inner_male.drop(columns=['ETWGT', 'EUWGT'] )\n",
        "merged_female = merged_inner_female.drop(columns=['ETWGT', 'EUWGT'])"
      ],
      "execution_count": null,
      "outputs": []
    },
    {
      "cell_type": "markdown",
      "metadata": {
        "id": "EPBRgKis54Zy"
      },
      "source": [
        "# **Prädiktion**"
      ]
    },
    {
      "cell_type": "markdown",
      "metadata": {
        "id": "Tn2mzUQ0BOPU"
      },
      "source": [
        "## Vergleichen"
      ]
    },
    {
      "cell_type": "code",
      "metadata": {
        "id": "XyfcTifz54Zy"
      },
      "source": [
        "#X = df_meanM[['EUEXFREQ',  'EUHGT', 'ERTPREAT']]\n",
        "#y = df_meanM['ERBMI']\n",
        "\n",
        "# fit a glm model\n",
        "#reg = LinearRegression()\n",
        "#reg.fit(X,y)"
      ],
      "execution_count": null,
      "outputs": []
    },
    {
      "cell_type": "code",
      "metadata": {
        "id": "taj9Bjos54Zz"
      },
      "source": [
        "#y_pred = reg.predict(X)\n",
        "#residual = y - y_pred\n",
        "#plt.scatter(y_pred,residual)"
      ],
      "execution_count": null,
      "outputs": []
    },
    {
      "cell_type": "code",
      "metadata": {
        "id": "Yf6KoAOD54Zz"
      },
      "source": [
        "#list(df_meanF['EUHGT'][::])\n",
        "\n",
        "#df_meanM[]df_meanM[]'EUHGT']<0"
      ],
      "execution_count": null,
      "outputs": []
    },
    {
      "cell_type": "markdown",
      "metadata": {
        "id": "rcD8Wr-ZBQ4C"
      },
      "source": [
        "## Ansatz"
      ]
    }
  ]
}