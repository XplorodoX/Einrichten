{
 "metadata": {
  "language_info": {
   "codemirror_mode": {
    "name": "ipython",
    "version": 3
   },
   "file_extension": ".py",
   "mimetype": "text/x-python",
   "name": "python",
   "nbconvert_exporter": "python",
   "pygments_lexer": "ipython3",
   "version": "3.9.5"
  },
  "orig_nbformat": 2,
  "kernelspec": {
   "name": "python395jvsc74a57bd04cd7ab41f5fca4b9b44701077e38c5ffd31fe66a6cab21e0214b68d958d0e462",
   "display_name": "Python 3.9.5 64-bit"
  }
 },
 "nbformat": 4,
 "nbformat_minor": 2,
 "cells": [
  {
   "source": [
    "<h2 style=\"margin:.5em 0;\">Einführung in Data Science</h2>\n",
    "<h3 style=\"margin:.5em 0;\">Fakultät Informatik &ndash; Hochschule Aalen</h3>\n",
    "<h4 style=\"margin:.5em 0;\">Autoren: Florian Merlau</h4>"
   ],
   "cell_type": "markdown",
   "metadata": {}
  },
  {
   "source": [
    "#  Bibliotheken importieren "
   ],
   "cell_type": "markdown",
   "metadata": {}
  },
  {
   "cell_type": "code",
   "execution_count": 63,
   "metadata": {},
   "outputs": [],
   "source": [
    "import pandas as pd\n",
    "import numpy as np\n",
    "import plotly.express as px\n",
    "import plotly.graph_objects as go\n",
    "from sklearn.impute import SimpleImputer\n",
    "from sklearn.preprocessing import OneHotEncoder"
   ]
  },
  {
   "source": [
    "# Datenbanken importieren"
   ],
   "cell_type": "markdown",
   "metadata": {}
  },
  {
   "cell_type": "code",
   "execution_count": 64,
   "metadata": {},
   "outputs": [
    {
     "output_type": "execute_result",
     "data": {
      "text/plain": [
       "         TUCASEID  TULINENO  EEINCOME1  ERBMI  ERHHCH  ERINCOME  ERSPEMCH  \\\n",
       "0  20160101160045         1          2   26.6       3         3         5   \n",
       "1  20160101160066         1          2   44.3       3         3         5   \n",
       "2  20160101160069         1          2   24.5       3         5        -1   \n",
       "3  20160101160083         1          2   21.2       1         5        -1   \n",
       "4  20160101160084         1          1   29.7       3         1         3   \n",
       "\n",
       "   ERTPREAT  ERTSEAT  ETHGT  ...  EUMEAT  EUMILK  EUPRPMEL  EUSODA  EUSTORES  \\\n",
       "0        40        0      0  ...       1       2         1       2         2   \n",
       "1        30       15      0  ...       1       2         1      -1         1   \n",
       "2        75        0      0  ...       1       2         1      -1         1   \n",
       "3       165        0      0  ...       1       2         1       2         1   \n",
       "4        30       27      0  ...       2       2         3       2         1   \n",
       "\n",
       "   EUSTREASON  EUTHERM  EUWGT  EUWIC  EXINCOME1  \n",
       "0           4        2    165     -1          0  \n",
       "1           2        2    300     -1          0  \n",
       "2           5        1    143      2          0  \n",
       "3           1        2     98      2          0  \n",
       "4           1       -1    173     -1          0  \n",
       "\n",
       "[5 rows x 37 columns]"
      ],
      "text/html": "<div>\n<style scoped>\n    .dataframe tbody tr th:only-of-type {\n        vertical-align: middle;\n    }\n\n    .dataframe tbody tr th {\n        vertical-align: top;\n    }\n\n    .dataframe thead th {\n        text-align: right;\n    }\n</style>\n<table border=\"1\" class=\"dataframe\">\n  <thead>\n    <tr style=\"text-align: right;\">\n      <th></th>\n      <th>TUCASEID</th>\n      <th>TULINENO</th>\n      <th>EEINCOME1</th>\n      <th>ERBMI</th>\n      <th>ERHHCH</th>\n      <th>ERINCOME</th>\n      <th>ERSPEMCH</th>\n      <th>ERTPREAT</th>\n      <th>ERTSEAT</th>\n      <th>ETHGT</th>\n      <th>...</th>\n      <th>EUMEAT</th>\n      <th>EUMILK</th>\n      <th>EUPRPMEL</th>\n      <th>EUSODA</th>\n      <th>EUSTORES</th>\n      <th>EUSTREASON</th>\n      <th>EUTHERM</th>\n      <th>EUWGT</th>\n      <th>EUWIC</th>\n      <th>EXINCOME1</th>\n    </tr>\n  </thead>\n  <tbody>\n    <tr>\n      <th>0</th>\n      <td>20160101160045</td>\n      <td>1</td>\n      <td>2</td>\n      <td>26.6</td>\n      <td>3</td>\n      <td>3</td>\n      <td>5</td>\n      <td>40</td>\n      <td>0</td>\n      <td>0</td>\n      <td>...</td>\n      <td>1</td>\n      <td>2</td>\n      <td>1</td>\n      <td>2</td>\n      <td>2</td>\n      <td>4</td>\n      <td>2</td>\n      <td>165</td>\n      <td>-1</td>\n      <td>0</td>\n    </tr>\n    <tr>\n      <th>1</th>\n      <td>20160101160066</td>\n      <td>1</td>\n      <td>2</td>\n      <td>44.3</td>\n      <td>3</td>\n      <td>3</td>\n      <td>5</td>\n      <td>30</td>\n      <td>15</td>\n      <td>0</td>\n      <td>...</td>\n      <td>1</td>\n      <td>2</td>\n      <td>1</td>\n      <td>-1</td>\n      <td>1</td>\n      <td>2</td>\n      <td>2</td>\n      <td>300</td>\n      <td>-1</td>\n      <td>0</td>\n    </tr>\n    <tr>\n      <th>2</th>\n      <td>20160101160069</td>\n      <td>1</td>\n      <td>2</td>\n      <td>24.5</td>\n      <td>3</td>\n      <td>5</td>\n      <td>-1</td>\n      <td>75</td>\n      <td>0</td>\n      <td>0</td>\n      <td>...</td>\n      <td>1</td>\n      <td>2</td>\n      <td>1</td>\n      <td>-1</td>\n      <td>1</td>\n      <td>5</td>\n      <td>1</td>\n      <td>143</td>\n      <td>2</td>\n      <td>0</td>\n    </tr>\n    <tr>\n      <th>3</th>\n      <td>20160101160083</td>\n      <td>1</td>\n      <td>2</td>\n      <td>21.2</td>\n      <td>1</td>\n      <td>5</td>\n      <td>-1</td>\n      <td>165</td>\n      <td>0</td>\n      <td>0</td>\n      <td>...</td>\n      <td>1</td>\n      <td>2</td>\n      <td>1</td>\n      <td>2</td>\n      <td>1</td>\n      <td>1</td>\n      <td>2</td>\n      <td>98</td>\n      <td>2</td>\n      <td>0</td>\n    </tr>\n    <tr>\n      <th>4</th>\n      <td>20160101160084</td>\n      <td>1</td>\n      <td>1</td>\n      <td>29.7</td>\n      <td>3</td>\n      <td>1</td>\n      <td>3</td>\n      <td>30</td>\n      <td>27</td>\n      <td>0</td>\n      <td>...</td>\n      <td>2</td>\n      <td>2</td>\n      <td>3</td>\n      <td>2</td>\n      <td>1</td>\n      <td>1</td>\n      <td>-1</td>\n      <td>173</td>\n      <td>-1</td>\n      <td>0</td>\n    </tr>\n  </tbody>\n</table>\n<p>5 rows × 37 columns</p>\n</div>"
     },
     "metadata": {},
     "execution_count": 64
    }
   ],
   "source": [
    "raw_ehresp = pd.read_csv('ehresp_2016s.dat')\n",
    "\n",
    "raw_atusrost = pd.read_csv('atusrost_2016.dat')\n",
    "raw_atussum = pd.read_csv('atussum_2016.dat')\n",
    "raw_ehresp.head()"
   ]
  },
  {
   "cell_type": "code",
   "execution_count": null,
   "metadata": {},
   "outputs": [],
   "source": []
  },
  {
   "source": [
    "# Analyse der Daten"
   ],
   "cell_type": "markdown",
   "metadata": {}
  },
  {
   "cell_type": "code",
   "execution_count": 65,
   "metadata": {},
   "outputs": [
    {
     "output_type": "execute_result",
     "data": {
      "text/plain": [
       "[27884, 10493, 10210]"
      ]
     },
     "metadata": {},
     "execution_count": 65
    }
   ],
   "source": [
    "[df_male,df_female]\n",
    "x=len(raw_atusrost)\n",
    "y=len(raw_atussum)\n",
    "z=len(raw_ehresp)\n",
    "[x,y,z]\n"
   ]
  },
  {
   "source": [
    "## Fehlerhafte Spalten = 423 --> 423 ungültige Einträge entfernen oder mit geeigneten füllen --> siehe Lösung Aufgabenblatt 1"
   ],
   "cell_type": "markdown",
   "metadata": {}
  },
  {
   "source": [
    "## Gender-Aufteilung zwischen Mann & Frau  \"TESEX =1 --> df_male, \"TESEX\" = 2 -->df_female \n",
    "## Gesamte Länge = 10439\n",
    "## Länge_Mann = 4670, Länge_Frau, 5823\n"
   ],
   "cell_type": "markdown",
   "metadata": {}
  },
  {
   "cell_type": "code",
   "execution_count": 66,
   "metadata": {},
   "outputs": [],
   "source": [
    "raw_atusrost.columns.values\n",
    "df_male = raw_atussum[raw_atussum['TESEX'] == 1 ].value_counts().sum() \n",
    "df_female = raw_atussum[raw_atussum['TESEX'] == 2].value_counts().sum()\n"
   ]
  },
  {
   "source": [
    "\n",
    "\n",
    "##df_isna =  raw_atussum[raw_atussum['TESEX'] != 1 & 2].value_counts().sum()\n",
    "df_isna= raw_atussum.isna().sum()\n",
    "df_isna= df_isna.value_counts().sum()\n",
    "df_isna\n"
   ],
   "cell_type": "code",
   "metadata": {},
   "execution_count": 67,
   "outputs": [
    {
     "output_type": "execute_result",
     "data": {
      "text/plain": [
       "423"
      ]
     },
     "metadata": {},
     "execution_count": 67
    }
   ]
  },
  {
   "source": [
    "## Mergen von Atussum & Ehresp --> aufgrund von fehlendem BMI in atussum "
   ],
   "cell_type": "markdown",
   "metadata": {}
  },
  {
   "cell_type": "code",
   "execution_count": 68,
   "metadata": {},
   "outputs": [
    {
     "output_type": "execute_result",
     "data": {
      "text/plain": [
       "             TUCASEID     TUFINLWGT  TRYHHCHILD  TEAGE  TESEX  PEEDUCA  \\\n",
       "0      20160101160045  2.458865e+07          -1     62      2       39   \n",
       "1      20160101160066  5.445941e+06          -1     69      1       37   \n",
       "2      20160101160069  8.782622e+06           0     24      2       39   \n",
       "3      20160101160083  3.035910e+06           8     31      2       40   \n",
       "4      20160101160084  6.978586e+06          -1     59      2       39   \n",
       "...               ...           ...         ...    ...    ...      ...   \n",
       "10205  20161212162307  1.295883e+07          -1     52      2       44   \n",
       "10206  20161212162357  4.899612e+06          -1     69      1       43   \n",
       "10207  20161212162426  1.597792e+07          -1     28      1       43   \n",
       "10208  20161212162456  6.280644e+06          -1     80      2       39   \n",
       "10209  20161212162509  1.485405e+07          12     16      2       35   \n",
       "\n",
       "       PTDTRACE  PEHSPNON  GTMETSTA  TELFS  ...  EUMEAT  EUMILK  EUPRPMEL  \\\n",
       "0             1         2         1      5  ...       1       2         1   \n",
       "1             2         2         2      5  ...       1       2         1   \n",
       "2             2         2         1      5  ...       1       2         1   \n",
       "3             1         2         2      1  ...       1       2         1   \n",
       "4             1         2         1      1  ...       2       2         3   \n",
       "...         ...       ...       ...    ...  ...     ...     ...       ...   \n",
       "10205         2         2         1      4  ...       1       2         1   \n",
       "10206         1         2         1      5  ...       1       2         1   \n",
       "10207         1         1         1      1  ...       1       2         1   \n",
       "10208         1         2         1      5  ...       1       2         1   \n",
       "10209         6         2         1      4  ...      -1      -1         2   \n",
       "\n",
       "       EUSODA  EUSTORES  EUSTREASON  EUTHERM  EUWGT  EUWIC  EXINCOME1  \n",
       "0           2         2           4        2    165     -1          0  \n",
       "1          -1         1           2        2    300     -1          0  \n",
       "2          -1         1           5        1    143      2          0  \n",
       "3           2         1           1        2     98      2          0  \n",
       "4           2         1           1       -1    173     -1          0  \n",
       "...       ...       ...         ...      ...    ...    ...        ...  \n",
       "10205       2         2           1        2    202     -1          0  \n",
       "10206       1         3           1        2    174     -1          0  \n",
       "10207       2         2           2        2    158     -1          0  \n",
       "10208       2        -1          -1        2    270     -1          0  \n",
       "10209      -1        -1          -1       -1    150      2         73  \n",
       "\n",
       "[10210 rows x 459 columns]"
      ],
      "text/html": "<div>\n<style scoped>\n    .dataframe tbody tr th:only-of-type {\n        vertical-align: middle;\n    }\n\n    .dataframe tbody tr th {\n        vertical-align: top;\n    }\n\n    .dataframe thead th {\n        text-align: right;\n    }\n</style>\n<table border=\"1\" class=\"dataframe\">\n  <thead>\n    <tr style=\"text-align: right;\">\n      <th></th>\n      <th>TUCASEID</th>\n      <th>TUFINLWGT</th>\n      <th>TRYHHCHILD</th>\n      <th>TEAGE</th>\n      <th>TESEX</th>\n      <th>PEEDUCA</th>\n      <th>PTDTRACE</th>\n      <th>PEHSPNON</th>\n      <th>GTMETSTA</th>\n      <th>TELFS</th>\n      <th>...</th>\n      <th>EUMEAT</th>\n      <th>EUMILK</th>\n      <th>EUPRPMEL</th>\n      <th>EUSODA</th>\n      <th>EUSTORES</th>\n      <th>EUSTREASON</th>\n      <th>EUTHERM</th>\n      <th>EUWGT</th>\n      <th>EUWIC</th>\n      <th>EXINCOME1</th>\n    </tr>\n  </thead>\n  <tbody>\n    <tr>\n      <th>0</th>\n      <td>20160101160045</td>\n      <td>2.458865e+07</td>\n      <td>-1</td>\n      <td>62</td>\n      <td>2</td>\n      <td>39</td>\n      <td>1</td>\n      <td>2</td>\n      <td>1</td>\n      <td>5</td>\n      <td>...</td>\n      <td>1</td>\n      <td>2</td>\n      <td>1</td>\n      <td>2</td>\n      <td>2</td>\n      <td>4</td>\n      <td>2</td>\n      <td>165</td>\n      <td>-1</td>\n      <td>0</td>\n    </tr>\n    <tr>\n      <th>1</th>\n      <td>20160101160066</td>\n      <td>5.445941e+06</td>\n      <td>-1</td>\n      <td>69</td>\n      <td>1</td>\n      <td>37</td>\n      <td>2</td>\n      <td>2</td>\n      <td>2</td>\n      <td>5</td>\n      <td>...</td>\n      <td>1</td>\n      <td>2</td>\n      <td>1</td>\n      <td>-1</td>\n      <td>1</td>\n      <td>2</td>\n      <td>2</td>\n      <td>300</td>\n      <td>-1</td>\n      <td>0</td>\n    </tr>\n    <tr>\n      <th>2</th>\n      <td>20160101160069</td>\n      <td>8.782622e+06</td>\n      <td>0</td>\n      <td>24</td>\n      <td>2</td>\n      <td>39</td>\n      <td>2</td>\n      <td>2</td>\n      <td>1</td>\n      <td>5</td>\n      <td>...</td>\n      <td>1</td>\n      <td>2</td>\n      <td>1</td>\n      <td>-1</td>\n      <td>1</td>\n      <td>5</td>\n      <td>1</td>\n      <td>143</td>\n      <td>2</td>\n      <td>0</td>\n    </tr>\n    <tr>\n      <th>3</th>\n      <td>20160101160083</td>\n      <td>3.035910e+06</td>\n      <td>8</td>\n      <td>31</td>\n      <td>2</td>\n      <td>40</td>\n      <td>1</td>\n      <td>2</td>\n      <td>2</td>\n      <td>1</td>\n      <td>...</td>\n      <td>1</td>\n      <td>2</td>\n      <td>1</td>\n      <td>2</td>\n      <td>1</td>\n      <td>1</td>\n      <td>2</td>\n      <td>98</td>\n      <td>2</td>\n      <td>0</td>\n    </tr>\n    <tr>\n      <th>4</th>\n      <td>20160101160084</td>\n      <td>6.978586e+06</td>\n      <td>-1</td>\n      <td>59</td>\n      <td>2</td>\n      <td>39</td>\n      <td>1</td>\n      <td>2</td>\n      <td>1</td>\n      <td>1</td>\n      <td>...</td>\n      <td>2</td>\n      <td>2</td>\n      <td>3</td>\n      <td>2</td>\n      <td>1</td>\n      <td>1</td>\n      <td>-1</td>\n      <td>173</td>\n      <td>-1</td>\n      <td>0</td>\n    </tr>\n    <tr>\n      <th>...</th>\n      <td>...</td>\n      <td>...</td>\n      <td>...</td>\n      <td>...</td>\n      <td>...</td>\n      <td>...</td>\n      <td>...</td>\n      <td>...</td>\n      <td>...</td>\n      <td>...</td>\n      <td>...</td>\n      <td>...</td>\n      <td>...</td>\n      <td>...</td>\n      <td>...</td>\n      <td>...</td>\n      <td>...</td>\n      <td>...</td>\n      <td>...</td>\n      <td>...</td>\n      <td>...</td>\n    </tr>\n    <tr>\n      <th>10205</th>\n      <td>20161212162307</td>\n      <td>1.295883e+07</td>\n      <td>-1</td>\n      <td>52</td>\n      <td>2</td>\n      <td>44</td>\n      <td>2</td>\n      <td>2</td>\n      <td>1</td>\n      <td>4</td>\n      <td>...</td>\n      <td>1</td>\n      <td>2</td>\n      <td>1</td>\n      <td>2</td>\n      <td>2</td>\n      <td>1</td>\n      <td>2</td>\n      <td>202</td>\n      <td>-1</td>\n      <td>0</td>\n    </tr>\n    <tr>\n      <th>10206</th>\n      <td>20161212162357</td>\n      <td>4.899612e+06</td>\n      <td>-1</td>\n      <td>69</td>\n      <td>1</td>\n      <td>43</td>\n      <td>1</td>\n      <td>2</td>\n      <td>1</td>\n      <td>5</td>\n      <td>...</td>\n      <td>1</td>\n      <td>2</td>\n      <td>1</td>\n      <td>1</td>\n      <td>3</td>\n      <td>1</td>\n      <td>2</td>\n      <td>174</td>\n      <td>-1</td>\n      <td>0</td>\n    </tr>\n    <tr>\n      <th>10207</th>\n      <td>20161212162426</td>\n      <td>1.597792e+07</td>\n      <td>-1</td>\n      <td>28</td>\n      <td>1</td>\n      <td>43</td>\n      <td>1</td>\n      <td>1</td>\n      <td>1</td>\n      <td>1</td>\n      <td>...</td>\n      <td>1</td>\n      <td>2</td>\n      <td>1</td>\n      <td>2</td>\n      <td>2</td>\n      <td>2</td>\n      <td>2</td>\n      <td>158</td>\n      <td>-1</td>\n      <td>0</td>\n    </tr>\n    <tr>\n      <th>10208</th>\n      <td>20161212162456</td>\n      <td>6.280644e+06</td>\n      <td>-1</td>\n      <td>80</td>\n      <td>2</td>\n      <td>39</td>\n      <td>1</td>\n      <td>2</td>\n      <td>1</td>\n      <td>5</td>\n      <td>...</td>\n      <td>1</td>\n      <td>2</td>\n      <td>1</td>\n      <td>2</td>\n      <td>-1</td>\n      <td>-1</td>\n      <td>2</td>\n      <td>270</td>\n      <td>-1</td>\n      <td>0</td>\n    </tr>\n    <tr>\n      <th>10209</th>\n      <td>20161212162509</td>\n      <td>1.485405e+07</td>\n      <td>12</td>\n      <td>16</td>\n      <td>2</td>\n      <td>35</td>\n      <td>6</td>\n      <td>2</td>\n      <td>1</td>\n      <td>4</td>\n      <td>...</td>\n      <td>-1</td>\n      <td>-1</td>\n      <td>2</td>\n      <td>-1</td>\n      <td>-1</td>\n      <td>-1</td>\n      <td>-1</td>\n      <td>150</td>\n      <td>2</td>\n      <td>73</td>\n    </tr>\n  </tbody>\n</table>\n<p>10210 rows × 459 columns</p>\n</div>"
     },
     "metadata": {},
     "execution_count": 68
    }
   ],
   "source": [
    "merged_inner= pd.merge(left=raw_atussum,right=raw_ehresp, left_on='TUCASEID',right_on='TUCASEID')\n",
    "m"
   ]
  },
  {
   "cell_type": "code",
   "execution_count": 69,
   "metadata": {},
   "outputs": [
    {
     "output_type": "execute_result",
     "data": {
      "text/plain": [
       "[             TUCASEID     TUFINLWGT  TRYHHCHILD  TEAGE  TESEX  PEEDUCA  \\\n",
       " 1      20160101160066  5.445941e+06          -1     69      1       37   \n",
       " 8      20160101160139  9.112257e+06          -1     63      1       46   \n",
       " 10     20160101160546  3.165768e+06           1     35      1       43   \n",
       " 16     20160101160573  9.150706e+06          16     16      1       36   \n",
       " 17     20160101160574  1.299119e+06          13     70      1       40   \n",
       " ...               ...           ...         ...    ...    ...      ...   \n",
       " 10199  20161212162015  2.775790e+06          -1     72      1       40   \n",
       " 10200  20161212162045  1.985660e+07          17     17      1       37   \n",
       " 10203  20161212162212  1.986985e+07          -1     75      1       39   \n",
       " 10206  20161212162357  4.899612e+06          -1     69      1       43   \n",
       " 10207  20161212162426  1.597792e+07          -1     28      1       43   \n",
       " \n",
       "        PTDTRACE  PEHSPNON  GTMETSTA  TELFS  ...  EUMEAT  EUMILK  EUPRPMEL  \\\n",
       " 1             2         2         2      5  ...       1       2         1   \n",
       " 8             1         2         1      5  ...       1       2         1   \n",
       " 10            1         2         2      1  ...      -1      -1         2   \n",
       " 16            1         2         1      5  ...      -1      -1         2   \n",
       " 17            1         1         1      5  ...      -1      -1         2   \n",
       " ...         ...       ...       ...    ...  ...     ...     ...       ...   \n",
       " 10199         2         2         1      5  ...       1       2         1   \n",
       " 10200         2         2         1      4  ...      -1      -1         2   \n",
       " 10203         1         2         2      2  ...      -1      -1         2   \n",
       " 10206         1         2         1      5  ...       1       2         1   \n",
       " 10207         1         1         1      1  ...       1       2         1   \n",
       " \n",
       "        EUSODA  EUSTORES  EUSTREASON  EUTHERM  EUWGT  EUWIC  EXINCOME1  \n",
       " 1          -1         1           2        2    300     -1          0  \n",
       " 8          -1        -1          -1        1    215     -1          0  \n",
       " 10          1        -1          -1       -1    208      2          0  \n",
       " 16          2        -1          -1       -1    170      2         73  \n",
       " 17         -1        -1          -1       -1    267      2          0  \n",
       " ...       ...       ...         ...      ...    ...    ...        ...  \n",
       " 10199      -1         2           2        1    158     -1          0  \n",
       " 10200      -1        -1          -1       -1    168     -1         73  \n",
       " 10203      -1        -1          -1       -1    180     -1          0  \n",
       " 10206       1         3           1        2    174     -1          0  \n",
       " 10207       2         2           2        2    158     -1          0  \n",
       " \n",
       " [4543 rows x 459 columns],\n",
       "              TUCASEID     TUFINLWGT  TRYHHCHILD  TEAGE  TESEX  PEEDUCA  \\\n",
       " 0      20160101160045  2.458865e+07          -1     62      2       39   \n",
       " 2      20160101160069  8.782622e+06           0     24      2       39   \n",
       " 3      20160101160083  3.035910e+06           8     31      2       40   \n",
       " 4      20160101160084  6.978586e+06          -1     59      2       39   \n",
       " 5      20160101160094  5.191610e+06           4     16      2       36   \n",
       " ...               ...           ...         ...    ...    ...      ...   \n",
       " 10202  20161212162091  7.209622e+06          -1     80      2       39   \n",
       " 10204  20161212162217  1.682211e+07          -1     60      2       43   \n",
       " 10205  20161212162307  1.295883e+07          -1     52      2       44   \n",
       " 10208  20161212162456  6.280644e+06          -1     80      2       39   \n",
       " 10209  20161212162509  1.485405e+07          12     16      2       35   \n",
       " \n",
       "        PTDTRACE  PEHSPNON  GTMETSTA  TELFS  ...  EUMEAT  EUMILK  EUPRPMEL  \\\n",
       " 0             1         2         1      5  ...       1       2         1   \n",
       " 2             2         2         1      5  ...       1       2         1   \n",
       " 3             1         2         2      1  ...       1       2         1   \n",
       " 4             1         2         1      1  ...       2       2         3   \n",
       " 5             3         1         1      5  ...      -1      -1         2   \n",
       " ...         ...       ...       ...    ...  ...     ...     ...       ...   \n",
       " 10202         1         2         1      5  ...       2       2         1   \n",
       " 10204         1         2         1      4  ...       1       2         1   \n",
       " 10205         2         2         1      4  ...       1       2         1   \n",
       " 10208         1         2         1      5  ...       1       2         1   \n",
       " 10209         6         2         1      4  ...      -1      -1         2   \n",
       " \n",
       "        EUSODA  EUSTORES  EUSTREASON  EUTHERM  EUWGT  EUWIC  EXINCOME1  \n",
       " 0           2         2           4        2    165     -1          0  \n",
       " 2          -1         1           5        1    143      2          0  \n",
       " 3           2         1           1        2     98      2          0  \n",
       " 4           2         1           1       -1    173     -1          0  \n",
       " 5           1        -1          -1       -1    158      1          0  \n",
       " ...       ...       ...         ...      ...    ...    ...        ...  \n",
       " 10202       1         1           1       -1    115     -1          0  \n",
       " 10204       2        -1          -1        2     -2     -1          0  \n",
       " 10205       2         2           1        2    202     -1          0  \n",
       " 10208       2        -1          -1        2    270     -1          0  \n",
       " 10209      -1        -1          -1       -1    150      2         73  \n",
       " \n",
       " [5667 rows x 459 columns]]"
      ]
     },
     "metadata": {},
     "execution_count": 69
    }
   ],
   "source": [
    "#bank = reduce(\n",
    "    #lambda left, right: pd.merge(left, right, on=['country', 'year'], how='outer'),\n",
    "    #data_collection\n",
    "#)\n",
    "#bank.head()\n",
    "\n",
    "merged_inner_male = merged_inner[merged_inner['TESEX'] == 1 ]\n",
    "merged_inner_female = merged_inner[merged_inner['TESEX'] == 2]\n",
    "[merged_inner_male,merged_inner_female]\n",
    "\n",
    "\n",
    "\n"
   ]
  },
  {
   "source": [
    "merged_male=merged_inner_male.drop(columns=['ETWGT', 'EUWGT'] )\n",
    "merged_female=merged_inner_female.drop(columns=['ETWGT', 'EUWGT'])\n",
    "#raw.drop(columns=['SibSp', 'Parch','PassengerId'], inplace=True)\n",
    "#raw\n"
   ],
   "cell_type": "code",
   "metadata": {},
   "execution_count": 74,
   "outputs": []
  },
  {
   "source": [
    "## Alle Prädiktionen die mit dem BMI oder Gewicht verbunden sind, wurden gelöscht"
   ],
   "cell_type": "markdown",
   "metadata": {}
  },
  {
   "cell_type": "code",
   "execution_count": 76,
   "metadata": {},
   "outputs": [
    {
     "output_type": "execute_result",
     "data": {
      "text/plain": [
       "Index(['TUCASEID', 'TUFINLWGT', 'TRYHHCHILD', 'TEAGE', 'TESEX', 'PEEDUCA',\n",
       "       'PTDTRACE', 'PEHSPNON', 'GTMETSTA', 'TELFS',\n",
       "       ...\n",
       "       'EUINCOME2', 'EUMEAT', 'EUMILK', 'EUPRPMEL', 'EUSODA', 'EUSTORES',\n",
       "       'EUSTREASON', 'EUTHERM', 'EUWIC', 'EXINCOME1'],\n",
       "      dtype='object', length=457)"
      ]
     },
     "metadata": {},
     "execution_count": 76
    }
   ],
   "source": [
    "merged_male.columns\n",
    "merged_female.columns"
   ]
  },
  {
   "cell_type": "code",
   "execution_count": null,
   "metadata": {},
   "outputs": [],
   "source": []
  },
  {
   "cell_type": "code",
   "execution_count": null,
   "metadata": {},
   "outputs": [],
   "source": []
  }
 ]
}