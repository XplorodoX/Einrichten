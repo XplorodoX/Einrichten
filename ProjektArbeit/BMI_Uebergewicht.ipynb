{
 "metadata": {
  "language_info": {
   "codemirror_mode": {
    "name": "ipython",
    "version": 3
   },
   "file_extension": ".py",
   "mimetype": "text/x-python",
   "name": "python",
   "nbconvert_exporter": "python",
   "pygments_lexer": "ipython3",
   "version": "3.9.2"
  },
  "orig_nbformat": 2,
  "kernelspec": {
   "name": "python392jvsc74a57bd04cd7ab41f5fca4b9b44701077e38c5ffd31fe66a6cab21e0214b68d958d0e462",
   "display_name": "Python 3.9.2 64-bit"
  }
 },
 "nbformat": 4,
 "nbformat_minor": 2,
 "cells": [
  {
   "source": [
    "<h2 style=\"margin:.5em 0;\">Einführung in Data Science</h2>\n",
    "<h3 style=\"margin:.5em 0;\">Fakultät Informatik &ndash; Hochschule Aalen</h3>\n",
    "<h4 style=\"margin:.5em 0;\">Autoren: Florian Merlau</h4>"
   ],
   "cell_type": "markdown",
   "metadata": {}
  },
  {
   "source": [
    "# Bibliotheken importieren "
   ],
   "cell_type": "markdown",
   "metadata": {}
  },
  {
   "cell_type": "code",
   "execution_count": 12,
   "metadata": {},
   "outputs": [],
   "source": [
    "import pandas as pd\n",
    "import numpy as np\n",
    "import plotly.express as px\n",
    "import plotly.graph_objects as go\n",
    "from sklearn.impute import SimpleImputer\n",
    "from sklearn.preprocessing import OneHotEncoder"
   ]
  },
  {
   "source": [
    "# Datenbanken importieren"
   ],
   "cell_type": "markdown",
   "metadata": {}
  },
  {
   "cell_type": "code",
   "execution_count": 13,
   "metadata": {},
   "outputs": [
    {
     "output_type": "execute_result",
     "data": {
      "text/plain": [
       "         TUCASEID  TULINENO  EEINCOME1  ERBMI  ERHHCH  ERINCOME  ERSPEMCH  \\\n",
       "0  20160101160045         1          2   26.6       3         3         5   \n",
       "1  20160101160066         1          2   44.3       3         3         5   \n",
       "2  20160101160069         1          2   24.5       3         5        -1   \n",
       "3  20160101160083         1          2   21.2       1         5        -1   \n",
       "4  20160101160084         1          1   29.7       3         1         3   \n",
       "\n",
       "   ERTPREAT  ERTSEAT  ETHGT  ...  EUMEAT  EUMILK  EUPRPMEL  EUSODA  EUSTORES  \\\n",
       "0        40        0      0  ...       1       2         1       2         2   \n",
       "1        30       15      0  ...       1       2         1      -1         1   \n",
       "2        75        0      0  ...       1       2         1      -1         1   \n",
       "3       165        0      0  ...       1       2         1       2         1   \n",
       "4        30       27      0  ...       2       2         3       2         1   \n",
       "\n",
       "   EUSTREASON  EUTHERM  EUWGT  EUWIC  EXINCOME1  \n",
       "0           4        2    165     -1          0  \n",
       "1           2        2    300     -1          0  \n",
       "2           5        1    143      2          0  \n",
       "3           1        2     98      2          0  \n",
       "4           1       -1    173     -1          0  \n",
       "\n",
       "[5 rows x 37 columns]"
      ],
      "text/html": "<div>\n<style scoped>\n    .dataframe tbody tr th:only-of-type {\n        vertical-align: middle;\n    }\n\n    .dataframe tbody tr th {\n        vertical-align: top;\n    }\n\n    .dataframe thead th {\n        text-align: right;\n    }\n</style>\n<table border=\"1\" class=\"dataframe\">\n  <thead>\n    <tr style=\"text-align: right;\">\n      <th></th>\n      <th>TUCASEID</th>\n      <th>TULINENO</th>\n      <th>EEINCOME1</th>\n      <th>ERBMI</th>\n      <th>ERHHCH</th>\n      <th>ERINCOME</th>\n      <th>ERSPEMCH</th>\n      <th>ERTPREAT</th>\n      <th>ERTSEAT</th>\n      <th>ETHGT</th>\n      <th>...</th>\n      <th>EUMEAT</th>\n      <th>EUMILK</th>\n      <th>EUPRPMEL</th>\n      <th>EUSODA</th>\n      <th>EUSTORES</th>\n      <th>EUSTREASON</th>\n      <th>EUTHERM</th>\n      <th>EUWGT</th>\n      <th>EUWIC</th>\n      <th>EXINCOME1</th>\n    </tr>\n  </thead>\n  <tbody>\n    <tr>\n      <th>0</th>\n      <td>20160101160045</td>\n      <td>1</td>\n      <td>2</td>\n      <td>26.6</td>\n      <td>3</td>\n      <td>3</td>\n      <td>5</td>\n      <td>40</td>\n      <td>0</td>\n      <td>0</td>\n      <td>...</td>\n      <td>1</td>\n      <td>2</td>\n      <td>1</td>\n      <td>2</td>\n      <td>2</td>\n      <td>4</td>\n      <td>2</td>\n      <td>165</td>\n      <td>-1</td>\n      <td>0</td>\n    </tr>\n    <tr>\n      <th>1</th>\n      <td>20160101160066</td>\n      <td>1</td>\n      <td>2</td>\n      <td>44.3</td>\n      <td>3</td>\n      <td>3</td>\n      <td>5</td>\n      <td>30</td>\n      <td>15</td>\n      <td>0</td>\n      <td>...</td>\n      <td>1</td>\n      <td>2</td>\n      <td>1</td>\n      <td>-1</td>\n      <td>1</td>\n      <td>2</td>\n      <td>2</td>\n      <td>300</td>\n      <td>-1</td>\n      <td>0</td>\n    </tr>\n    <tr>\n      <th>2</th>\n      <td>20160101160069</td>\n      <td>1</td>\n      <td>2</td>\n      <td>24.5</td>\n      <td>3</td>\n      <td>5</td>\n      <td>-1</td>\n      <td>75</td>\n      <td>0</td>\n      <td>0</td>\n      <td>...</td>\n      <td>1</td>\n      <td>2</td>\n      <td>1</td>\n      <td>-1</td>\n      <td>1</td>\n      <td>5</td>\n      <td>1</td>\n      <td>143</td>\n      <td>2</td>\n      <td>0</td>\n    </tr>\n    <tr>\n      <th>3</th>\n      <td>20160101160083</td>\n      <td>1</td>\n      <td>2</td>\n      <td>21.2</td>\n      <td>1</td>\n      <td>5</td>\n      <td>-1</td>\n      <td>165</td>\n      <td>0</td>\n      <td>0</td>\n      <td>...</td>\n      <td>1</td>\n      <td>2</td>\n      <td>1</td>\n      <td>2</td>\n      <td>1</td>\n      <td>1</td>\n      <td>2</td>\n      <td>98</td>\n      <td>2</td>\n      <td>0</td>\n    </tr>\n    <tr>\n      <th>4</th>\n      <td>20160101160084</td>\n      <td>1</td>\n      <td>1</td>\n      <td>29.7</td>\n      <td>3</td>\n      <td>1</td>\n      <td>3</td>\n      <td>30</td>\n      <td>27</td>\n      <td>0</td>\n      <td>...</td>\n      <td>2</td>\n      <td>2</td>\n      <td>3</td>\n      <td>2</td>\n      <td>1</td>\n      <td>1</td>\n      <td>-1</td>\n      <td>173</td>\n      <td>-1</td>\n      <td>0</td>\n    </tr>\n  </tbody>\n</table>\n<p>5 rows × 37 columns</p>\n</div>"
     },
     "metadata": {},
     "execution_count": 13
    }
   ],
   "source": [
    "raw_ehresp = pd.read_csv('ehresp_2016s.dat')\n",
    "\n",
    "raw_atusrost = pd.read_csv('atusrost_2016.dat')\n",
    "raw_patussum = pd.read_csv('atussum_2016.dat')\n",
    "raw_ehresp.head()"
   ]
  },
  {
   "cell_type": "code",
   "execution_count": 14,
   "metadata": {},
   "outputs": [
    {
     "output_type": "execute_result",
     "data": {
      "text/plain": [
       "          TUCASEID  TULINENO  TEAGE  TERRP  TESEX  TXAGE  TXRRP  TXSEX\n",
       "0   20160101160045         1     62     18      2      0      0      0\n",
       "1   20160101160045         2     65     20      1      0      0      0\n",
       "2   20160101160045         3     43     22      1      0      0      0\n",
       "3   20160101160066         1     69     18      1      0      0      0\n",
       "4   20160101160066         2     67     20      2      0      0      0\n",
       "5   20160101160069         1     24     18      2      0      0      0\n",
       "6   20160101160069         2     59     24      2      0      0      0\n",
       "7   20160101160069         3      8     22      2      0      0      0\n",
       "8   20160101160069         4      0     22      1      0      0      0\n",
       "9   20160101160083         1     31     19      2      0      0      0\n",
       "10  20160101160083         2     11     22      1      0      0      0\n",
       "11  20160101160083         3      9     22      2      0      0      0\n",
       "12  20160101160083         4      8     22      1      0      0      0\n",
       "13  20160101160084         1     59     18      2      0      0      0\n",
       "14  20160101160084         2     79     20      1      0      0      0\n",
       "15  20160101160094         1     16     18      2      0      0      0\n",
       "16  20160101160094         2     43     24      2      0      0      0\n",
       "17  20160101160094         3     13     25      2      0      0      0\n",
       "18  20160101160094         4     12     25      1      0      0      0\n",
       "19  20160101160094         5      4     25      1      0      0      0"
      ],
      "text/html": "<div>\n<style scoped>\n    .dataframe tbody tr th:only-of-type {\n        vertical-align: middle;\n    }\n\n    .dataframe tbody tr th {\n        vertical-align: top;\n    }\n\n    .dataframe thead th {\n        text-align: right;\n    }\n</style>\n<table border=\"1\" class=\"dataframe\">\n  <thead>\n    <tr style=\"text-align: right;\">\n      <th></th>\n      <th>TUCASEID</th>\n      <th>TULINENO</th>\n      <th>TEAGE</th>\n      <th>TERRP</th>\n      <th>TESEX</th>\n      <th>TXAGE</th>\n      <th>TXRRP</th>\n      <th>TXSEX</th>\n    </tr>\n  </thead>\n  <tbody>\n    <tr>\n      <th>0</th>\n      <td>20160101160045</td>\n      <td>1</td>\n      <td>62</td>\n      <td>18</td>\n      <td>2</td>\n      <td>0</td>\n      <td>0</td>\n      <td>0</td>\n    </tr>\n    <tr>\n      <th>1</th>\n      <td>20160101160045</td>\n      <td>2</td>\n      <td>65</td>\n      <td>20</td>\n      <td>1</td>\n      <td>0</td>\n      <td>0</td>\n      <td>0</td>\n    </tr>\n    <tr>\n      <th>2</th>\n      <td>20160101160045</td>\n      <td>3</td>\n      <td>43</td>\n      <td>22</td>\n      <td>1</td>\n      <td>0</td>\n      <td>0</td>\n      <td>0</td>\n    </tr>\n    <tr>\n      <th>3</th>\n      <td>20160101160066</td>\n      <td>1</td>\n      <td>69</td>\n      <td>18</td>\n      <td>1</td>\n      <td>0</td>\n      <td>0</td>\n      <td>0</td>\n    </tr>\n    <tr>\n      <th>4</th>\n      <td>20160101160066</td>\n      <td>2</td>\n      <td>67</td>\n      <td>20</td>\n      <td>2</td>\n      <td>0</td>\n      <td>0</td>\n      <td>0</td>\n    </tr>\n    <tr>\n      <th>5</th>\n      <td>20160101160069</td>\n      <td>1</td>\n      <td>24</td>\n      <td>18</td>\n      <td>2</td>\n      <td>0</td>\n      <td>0</td>\n      <td>0</td>\n    </tr>\n    <tr>\n      <th>6</th>\n      <td>20160101160069</td>\n      <td>2</td>\n      <td>59</td>\n      <td>24</td>\n      <td>2</td>\n      <td>0</td>\n      <td>0</td>\n      <td>0</td>\n    </tr>\n    <tr>\n      <th>7</th>\n      <td>20160101160069</td>\n      <td>3</td>\n      <td>8</td>\n      <td>22</td>\n      <td>2</td>\n      <td>0</td>\n      <td>0</td>\n      <td>0</td>\n    </tr>\n    <tr>\n      <th>8</th>\n      <td>20160101160069</td>\n      <td>4</td>\n      <td>0</td>\n      <td>22</td>\n      <td>1</td>\n      <td>0</td>\n      <td>0</td>\n      <td>0</td>\n    </tr>\n    <tr>\n      <th>9</th>\n      <td>20160101160083</td>\n      <td>1</td>\n      <td>31</td>\n      <td>19</td>\n      <td>2</td>\n      <td>0</td>\n      <td>0</td>\n      <td>0</td>\n    </tr>\n    <tr>\n      <th>10</th>\n      <td>20160101160083</td>\n      <td>2</td>\n      <td>11</td>\n      <td>22</td>\n      <td>1</td>\n      <td>0</td>\n      <td>0</td>\n      <td>0</td>\n    </tr>\n    <tr>\n      <th>11</th>\n      <td>20160101160083</td>\n      <td>3</td>\n      <td>9</td>\n      <td>22</td>\n      <td>2</td>\n      <td>0</td>\n      <td>0</td>\n      <td>0</td>\n    </tr>\n    <tr>\n      <th>12</th>\n      <td>20160101160083</td>\n      <td>4</td>\n      <td>8</td>\n      <td>22</td>\n      <td>1</td>\n      <td>0</td>\n      <td>0</td>\n      <td>0</td>\n    </tr>\n    <tr>\n      <th>13</th>\n      <td>20160101160084</td>\n      <td>1</td>\n      <td>59</td>\n      <td>18</td>\n      <td>2</td>\n      <td>0</td>\n      <td>0</td>\n      <td>0</td>\n    </tr>\n    <tr>\n      <th>14</th>\n      <td>20160101160084</td>\n      <td>2</td>\n      <td>79</td>\n      <td>20</td>\n      <td>1</td>\n      <td>0</td>\n      <td>0</td>\n      <td>0</td>\n    </tr>\n    <tr>\n      <th>15</th>\n      <td>20160101160094</td>\n      <td>1</td>\n      <td>16</td>\n      <td>18</td>\n      <td>2</td>\n      <td>0</td>\n      <td>0</td>\n      <td>0</td>\n    </tr>\n    <tr>\n      <th>16</th>\n      <td>20160101160094</td>\n      <td>2</td>\n      <td>43</td>\n      <td>24</td>\n      <td>2</td>\n      <td>0</td>\n      <td>0</td>\n      <td>0</td>\n    </tr>\n    <tr>\n      <th>17</th>\n      <td>20160101160094</td>\n      <td>3</td>\n      <td>13</td>\n      <td>25</td>\n      <td>2</td>\n      <td>0</td>\n      <td>0</td>\n      <td>0</td>\n    </tr>\n    <tr>\n      <th>18</th>\n      <td>20160101160094</td>\n      <td>4</td>\n      <td>12</td>\n      <td>25</td>\n      <td>1</td>\n      <td>0</td>\n      <td>0</td>\n      <td>0</td>\n    </tr>\n    <tr>\n      <th>19</th>\n      <td>20160101160094</td>\n      <td>5</td>\n      <td>4</td>\n      <td>25</td>\n      <td>1</td>\n      <td>0</td>\n      <td>0</td>\n      <td>0</td>\n    </tr>\n  </tbody>\n</table>\n</div>"
     },
     "metadata": {},
     "execution_count": 14
    }
   ],
   "source": [
    "raw_atusrost.head(20)"
   ]
  },
  {
   "cell_type": "code",
   "execution_count": 15,
   "metadata": {},
   "outputs": [
    {
     "output_type": "execute_result",
     "data": {
      "text/plain": [
       "         TUCASEID     TUFINLWGT  TRYHHCHILD  TEAGE  TESEX  PEEDUCA  PTDTRACE  \\\n",
       "0  20160101160045  2.458865e+07          -1     62      2       39         1   \n",
       "1  20160101160066  5.445941e+06          -1     69      1       37         2   \n",
       "2  20160101160069  8.782622e+06           0     24      2       39         2   \n",
       "3  20160101160083  3.035910e+06           8     31      2       40         1   \n",
       "4  20160101160084  6.978586e+06          -1     59      2       39         1   \n",
       "\n",
       "   PEHSPNON  GTMETSTA  TELFS  ...  t181501  t181599  t181601  t181801  \\\n",
       "0         2         1      5  ...        0        0        0        0   \n",
       "1         2         2      5  ...        0        0        0        0   \n",
       "2         2         1      5  ...        0        0        0        0   \n",
       "3         2         2      1  ...        0        0        0        0   \n",
       "4         2         1      1  ...        0        0        0        0   \n",
       "\n",
       "   t189999  t500101  t500103  t500105  t500106  t500107  \n",
       "0        0        0        0        0        0        0  \n",
       "1        0        0        0        0        0        0  \n",
       "2        0       60        0        0        0        0  \n",
       "3        0        0        0        0        0        0  \n",
       "4        0        0        0        0        0        0  \n",
       "\n",
       "[5 rows x 423 columns]"
      ],
      "text/html": "<div>\n<style scoped>\n    .dataframe tbody tr th:only-of-type {\n        vertical-align: middle;\n    }\n\n    .dataframe tbody tr th {\n        vertical-align: top;\n    }\n\n    .dataframe thead th {\n        text-align: right;\n    }\n</style>\n<table border=\"1\" class=\"dataframe\">\n  <thead>\n    <tr style=\"text-align: right;\">\n      <th></th>\n      <th>TUCASEID</th>\n      <th>TUFINLWGT</th>\n      <th>TRYHHCHILD</th>\n      <th>TEAGE</th>\n      <th>TESEX</th>\n      <th>PEEDUCA</th>\n      <th>PTDTRACE</th>\n      <th>PEHSPNON</th>\n      <th>GTMETSTA</th>\n      <th>TELFS</th>\n      <th>...</th>\n      <th>t181501</th>\n      <th>t181599</th>\n      <th>t181601</th>\n      <th>t181801</th>\n      <th>t189999</th>\n      <th>t500101</th>\n      <th>t500103</th>\n      <th>t500105</th>\n      <th>t500106</th>\n      <th>t500107</th>\n    </tr>\n  </thead>\n  <tbody>\n    <tr>\n      <th>0</th>\n      <td>20160101160045</td>\n      <td>2.458865e+07</td>\n      <td>-1</td>\n      <td>62</td>\n      <td>2</td>\n      <td>39</td>\n      <td>1</td>\n      <td>2</td>\n      <td>1</td>\n      <td>5</td>\n      <td>...</td>\n      <td>0</td>\n      <td>0</td>\n      <td>0</td>\n      <td>0</td>\n      <td>0</td>\n      <td>0</td>\n      <td>0</td>\n      <td>0</td>\n      <td>0</td>\n      <td>0</td>\n    </tr>\n    <tr>\n      <th>1</th>\n      <td>20160101160066</td>\n      <td>5.445941e+06</td>\n      <td>-1</td>\n      <td>69</td>\n      <td>1</td>\n      <td>37</td>\n      <td>2</td>\n      <td>2</td>\n      <td>2</td>\n      <td>5</td>\n      <td>...</td>\n      <td>0</td>\n      <td>0</td>\n      <td>0</td>\n      <td>0</td>\n      <td>0</td>\n      <td>0</td>\n      <td>0</td>\n      <td>0</td>\n      <td>0</td>\n      <td>0</td>\n    </tr>\n    <tr>\n      <th>2</th>\n      <td>20160101160069</td>\n      <td>8.782622e+06</td>\n      <td>0</td>\n      <td>24</td>\n      <td>2</td>\n      <td>39</td>\n      <td>2</td>\n      <td>2</td>\n      <td>1</td>\n      <td>5</td>\n      <td>...</td>\n      <td>0</td>\n      <td>0</td>\n      <td>0</td>\n      <td>0</td>\n      <td>0</td>\n      <td>60</td>\n      <td>0</td>\n      <td>0</td>\n      <td>0</td>\n      <td>0</td>\n    </tr>\n    <tr>\n      <th>3</th>\n      <td>20160101160083</td>\n      <td>3.035910e+06</td>\n      <td>8</td>\n      <td>31</td>\n      <td>2</td>\n      <td>40</td>\n      <td>1</td>\n      <td>2</td>\n      <td>2</td>\n      <td>1</td>\n      <td>...</td>\n      <td>0</td>\n      <td>0</td>\n      <td>0</td>\n      <td>0</td>\n      <td>0</td>\n      <td>0</td>\n      <td>0</td>\n      <td>0</td>\n      <td>0</td>\n      <td>0</td>\n    </tr>\n    <tr>\n      <th>4</th>\n      <td>20160101160084</td>\n      <td>6.978586e+06</td>\n      <td>-1</td>\n      <td>59</td>\n      <td>2</td>\n      <td>39</td>\n      <td>1</td>\n      <td>2</td>\n      <td>1</td>\n      <td>1</td>\n      <td>...</td>\n      <td>0</td>\n      <td>0</td>\n      <td>0</td>\n      <td>0</td>\n      <td>0</td>\n      <td>0</td>\n      <td>0</td>\n      <td>0</td>\n      <td>0</td>\n      <td>0</td>\n    </tr>\n  </tbody>\n</table>\n<p>5 rows × 423 columns</p>\n</div>"
     },
     "metadata": {},
     "execution_count": 15
    }
   ],
   "source": [
    "raw_patussum.head()"
   ]
  },
  {
   "cell_type": "code",
   "execution_count": 17,
   "metadata": {},
   "outputs": [
    {
     "output_type": "execute_result",
     "data": {
      "text/plain": [
       "ERBMI\n",
       "-1.0     512\n",
       " 25.8    256\n",
       " 26.6    242\n",
       " 25.1    235\n",
       " 27.4    161\n",
       "        ... \n",
       " 48.0      1\n",
       " 48.7      1\n",
       " 49.1      1\n",
       " 49.8      1\n",
       " 61.8      1\n",
       "Length: 359, dtype: int64"
      ]
     },
     "metadata": {},
     "execution_count": 17
    }
   ],
   "source": [
    "raw_ehresp.value_counts('ERBMI')"
   ]
  },
  {
   "cell_type": "code",
   "execution_count": 21,
   "metadata": {},
   "outputs": [
    {
     "output_type": "execute_result",
     "data": {
      "text/plain": [
       "             TUCASEID  TULINENO  ERBMI  ERHHCH  ERSPEMCH  ERTPREAT  ETHGT  \\\n",
       "0      20160101160045         1   26.6       3         5        40      0   \n",
       "1      20160101160066         1   44.3       3         5        30      0   \n",
       "2      20160101160069         1   24.5       3        -1        75      0   \n",
       "3      20160101160083         1   21.2       1        -1       165      0   \n",
       "4      20160101160084         1   29.7       3         3        30      0   \n",
       "...               ...       ...    ...     ...       ...       ...    ...   \n",
       "10205  20161212162307         1   33.6       3         5        35      0   \n",
       "10206  20161212162357         1   26.5       3        -1        50      0   \n",
       "10207  20161212162426         1   27.1       3        -1       135      0   \n",
       "10208  20161212162456         1   44.9       3        -1        20      0   \n",
       "10209  20161212162509         1   22.8       3        -1        40      0   \n",
       "\n",
       "       ETWGT  EUDIETSODA  EUDRINK  ...  EUMEAT  EUMILK  EUPRPMEL  EUSODA  \\\n",
       "0          0          -1        1  ...       1       2         1       2   \n",
       "1          0          -1        2  ...       1       2         1      -1   \n",
       "2          0          -1        2  ...       1       2         1      -1   \n",
       "3          2          -1        1  ...       1       2         1       2   \n",
       "4          0          -1        1  ...       2       2         3       2   \n",
       "...      ...         ...      ...  ...     ...     ...       ...     ...   \n",
       "10205      0          -1        1  ...       1       2         1       2   \n",
       "10206      0           1        1  ...       1       2         1       1   \n",
       "10207      0          -1        1  ...       1       2         1       2   \n",
       "10208      0          -1        1  ...       1       2         1       2   \n",
       "10209      0          -1        2  ...      -1      -1         2      -1   \n",
       "\n",
       "       EUSTORES  EUSTREASON  EUTHERM  EUWGT  EUWIC  EXINCOME1  \n",
       "0             2           4        2    165     -1          0  \n",
       "1             1           2        2    300     -1          0  \n",
       "2             1           5        1    143      2          0  \n",
       "3             1           1        2     98      2          0  \n",
       "4             1           1       -1    173     -1          0  \n",
       "...         ...         ...      ...    ...    ...        ...  \n",
       "10205         2           1        2    202     -1          0  \n",
       "10206         3           1        2    174     -1          0  \n",
       "10207         2           2        2    158     -1          0  \n",
       "10208        -1          -1        2    270     -1          0  \n",
       "10209        -1          -1       -1    150      2         73  \n",
       "\n",
       "[10210 rows x 34 columns]"
      ],
      "text/html": "<div>\n<style scoped>\n    .dataframe tbody tr th:only-of-type {\n        vertical-align: middle;\n    }\n\n    .dataframe tbody tr th {\n        vertical-align: top;\n    }\n\n    .dataframe thead th {\n        text-align: right;\n    }\n</style>\n<table border=\"1\" class=\"dataframe\">\n  <thead>\n    <tr style=\"text-align: right;\">\n      <th></th>\n      <th>TUCASEID</th>\n      <th>TULINENO</th>\n      <th>ERBMI</th>\n      <th>ERHHCH</th>\n      <th>ERSPEMCH</th>\n      <th>ERTPREAT</th>\n      <th>ETHGT</th>\n      <th>ETWGT</th>\n      <th>EUDIETSODA</th>\n      <th>EUDRINK</th>\n      <th>...</th>\n      <th>EUMEAT</th>\n      <th>EUMILK</th>\n      <th>EUPRPMEL</th>\n      <th>EUSODA</th>\n      <th>EUSTORES</th>\n      <th>EUSTREASON</th>\n      <th>EUTHERM</th>\n      <th>EUWGT</th>\n      <th>EUWIC</th>\n      <th>EXINCOME1</th>\n    </tr>\n  </thead>\n  <tbody>\n    <tr>\n      <th>0</th>\n      <td>20160101160045</td>\n      <td>1</td>\n      <td>26.6</td>\n      <td>3</td>\n      <td>5</td>\n      <td>40</td>\n      <td>0</td>\n      <td>0</td>\n      <td>-1</td>\n      <td>1</td>\n      <td>...</td>\n      <td>1</td>\n      <td>2</td>\n      <td>1</td>\n      <td>2</td>\n      <td>2</td>\n      <td>4</td>\n      <td>2</td>\n      <td>165</td>\n      <td>-1</td>\n      <td>0</td>\n    </tr>\n    <tr>\n      <th>1</th>\n      <td>20160101160066</td>\n      <td>1</td>\n      <td>44.3</td>\n      <td>3</td>\n      <td>5</td>\n      <td>30</td>\n      <td>0</td>\n      <td>0</td>\n      <td>-1</td>\n      <td>2</td>\n      <td>...</td>\n      <td>1</td>\n      <td>2</td>\n      <td>1</td>\n      <td>-1</td>\n      <td>1</td>\n      <td>2</td>\n      <td>2</td>\n      <td>300</td>\n      <td>-1</td>\n      <td>0</td>\n    </tr>\n    <tr>\n      <th>2</th>\n      <td>20160101160069</td>\n      <td>1</td>\n      <td>24.5</td>\n      <td>3</td>\n      <td>-1</td>\n      <td>75</td>\n      <td>0</td>\n      <td>0</td>\n      <td>-1</td>\n      <td>2</td>\n      <td>...</td>\n      <td>1</td>\n      <td>2</td>\n      <td>1</td>\n      <td>-1</td>\n      <td>1</td>\n      <td>5</td>\n      <td>1</td>\n      <td>143</td>\n      <td>2</td>\n      <td>0</td>\n    </tr>\n    <tr>\n      <th>3</th>\n      <td>20160101160083</td>\n      <td>1</td>\n      <td>21.2</td>\n      <td>1</td>\n      <td>-1</td>\n      <td>165</td>\n      <td>0</td>\n      <td>2</td>\n      <td>-1</td>\n      <td>1</td>\n      <td>...</td>\n      <td>1</td>\n      <td>2</td>\n      <td>1</td>\n      <td>2</td>\n      <td>1</td>\n      <td>1</td>\n      <td>2</td>\n      <td>98</td>\n      <td>2</td>\n      <td>0</td>\n    </tr>\n    <tr>\n      <th>4</th>\n      <td>20160101160084</td>\n      <td>1</td>\n      <td>29.7</td>\n      <td>3</td>\n      <td>3</td>\n      <td>30</td>\n      <td>0</td>\n      <td>0</td>\n      <td>-1</td>\n      <td>1</td>\n      <td>...</td>\n      <td>2</td>\n      <td>2</td>\n      <td>3</td>\n      <td>2</td>\n      <td>1</td>\n      <td>1</td>\n      <td>-1</td>\n      <td>173</td>\n      <td>-1</td>\n      <td>0</td>\n    </tr>\n    <tr>\n      <th>...</th>\n      <td>...</td>\n      <td>...</td>\n      <td>...</td>\n      <td>...</td>\n      <td>...</td>\n      <td>...</td>\n      <td>...</td>\n      <td>...</td>\n      <td>...</td>\n      <td>...</td>\n      <td>...</td>\n      <td>...</td>\n      <td>...</td>\n      <td>...</td>\n      <td>...</td>\n      <td>...</td>\n      <td>...</td>\n      <td>...</td>\n      <td>...</td>\n      <td>...</td>\n      <td>...</td>\n    </tr>\n    <tr>\n      <th>10205</th>\n      <td>20161212162307</td>\n      <td>1</td>\n      <td>33.6</td>\n      <td>3</td>\n      <td>5</td>\n      <td>35</td>\n      <td>0</td>\n      <td>0</td>\n      <td>-1</td>\n      <td>1</td>\n      <td>...</td>\n      <td>1</td>\n      <td>2</td>\n      <td>1</td>\n      <td>2</td>\n      <td>2</td>\n      <td>1</td>\n      <td>2</td>\n      <td>202</td>\n      <td>-1</td>\n      <td>0</td>\n    </tr>\n    <tr>\n      <th>10206</th>\n      <td>20161212162357</td>\n      <td>1</td>\n      <td>26.5</td>\n      <td>3</td>\n      <td>-1</td>\n      <td>50</td>\n      <td>0</td>\n      <td>0</td>\n      <td>1</td>\n      <td>1</td>\n      <td>...</td>\n      <td>1</td>\n      <td>2</td>\n      <td>1</td>\n      <td>1</td>\n      <td>3</td>\n      <td>1</td>\n      <td>2</td>\n      <td>174</td>\n      <td>-1</td>\n      <td>0</td>\n    </tr>\n    <tr>\n      <th>10207</th>\n      <td>20161212162426</td>\n      <td>1</td>\n      <td>27.1</td>\n      <td>3</td>\n      <td>-1</td>\n      <td>135</td>\n      <td>0</td>\n      <td>0</td>\n      <td>-1</td>\n      <td>1</td>\n      <td>...</td>\n      <td>1</td>\n      <td>2</td>\n      <td>1</td>\n      <td>2</td>\n      <td>2</td>\n      <td>2</td>\n      <td>2</td>\n      <td>158</td>\n      <td>-1</td>\n      <td>0</td>\n    </tr>\n    <tr>\n      <th>10208</th>\n      <td>20161212162456</td>\n      <td>1</td>\n      <td>44.9</td>\n      <td>3</td>\n      <td>-1</td>\n      <td>20</td>\n      <td>0</td>\n      <td>0</td>\n      <td>-1</td>\n      <td>1</td>\n      <td>...</td>\n      <td>1</td>\n      <td>2</td>\n      <td>1</td>\n      <td>2</td>\n      <td>-1</td>\n      <td>-1</td>\n      <td>2</td>\n      <td>270</td>\n      <td>-1</td>\n      <td>0</td>\n    </tr>\n    <tr>\n      <th>10209</th>\n      <td>20161212162509</td>\n      <td>1</td>\n      <td>22.8</td>\n      <td>3</td>\n      <td>-1</td>\n      <td>40</td>\n      <td>0</td>\n      <td>0</td>\n      <td>-1</td>\n      <td>2</td>\n      <td>...</td>\n      <td>-1</td>\n      <td>-1</td>\n      <td>2</td>\n      <td>-1</td>\n      <td>-1</td>\n      <td>-1</td>\n      <td>-1</td>\n      <td>150</td>\n      <td>2</td>\n      <td>73</td>\n    </tr>\n  </tbody>\n</table>\n<p>10210 rows × 34 columns</p>\n</div>"
     },
     "metadata": {},
     "execution_count": 21
    }
   ],
   "source": [
    "raw_ehresp.drop(columns=['EEINCOME1', 'ERINCOME', 'ERTSEAT', 'ERTSEAT'])"
   ]
  },
  {
   "cell_type": "code",
   "execution_count": 22,
   "metadata": {},
   "outputs": [
    {
     "output_type": "execute_result",
     "data": {
      "text/plain": [
       "array(['TUCASEID', 'TULINENO', 'EEINCOME1', 'ERBMI', 'ERHHCH', 'ERINCOME',\n",
       "       'ERSPEMCH', 'ERTPREAT', 'ERTSEAT', 'ETHGT', 'ETWGT', 'EUDIETSODA',\n",
       "       'EUDRINK', 'EUEAT', 'EUEXERCISE', 'EUEXFREQ', 'EUFASTFD',\n",
       "       'EUFASTFDFRQ', 'EUFFYDAY', 'EUFDSIT', 'EUFINLWGT', 'EUSNAP',\n",
       "       'EUGENHTH', 'EUGROSHP', 'EUHGT', 'EUINCLVL', 'EUINCOME2', 'EUMEAT',\n",
       "       'EUMILK', 'EUPRPMEL', 'EUSODA', 'EUSTORES', 'EUSTREASON',\n",
       "       'EUTHERM', 'EUWGT', 'EUWIC', 'EXINCOME1'], dtype=object)"
      ]
     },
     "metadata": {},
     "execution_count": 22
    }
   ],
   "source": [
    "raw_ehresp.columns.values"
   ]
  },
  {
   "cell_type": "code",
   "execution_count": 23,
   "metadata": {},
   "outputs": [
    {
     "output_type": "stream",
     "name": "stdout",
     "text": [
      "<class 'pandas.core.frame.DataFrame'>\nRangeIndex: 10210 entries, 0 to 10209\nData columns (total 37 columns):\n #   Column       Non-Null Count  Dtype  \n---  ------       --------------  -----  \n 0   TUCASEID     10210 non-null  int64  \n 1   TULINENO     10210 non-null  int64  \n 2   EEINCOME1    10210 non-null  int64  \n 3   ERBMI        10210 non-null  float64\n 4   ERHHCH       10210 non-null  int64  \n 5   ERINCOME     10210 non-null  int64  \n 6   ERSPEMCH     10210 non-null  int64  \n 7   ERTPREAT     10210 non-null  int64  \n 8   ERTSEAT      10210 non-null  int64  \n 9   ETHGT        10210 non-null  int64  \n 10  ETWGT        10210 non-null  int64  \n 11  EUDIETSODA   10210 non-null  int64  \n 12  EUDRINK      10210 non-null  int64  \n 13  EUEAT        10210 non-null  int64  \n 14  EUEXERCISE   10210 non-null  int64  \n 15  EUEXFREQ     10210 non-null  int64  \n 16  EUFASTFD     10210 non-null  int64  \n 17  EUFASTFDFRQ  10210 non-null  int64  \n 18  EUFFYDAY     10210 non-null  int64  \n 19  EUFDSIT      10210 non-null  int64  \n 20  EUFINLWGT    10210 non-null  float64\n 21  EUSNAP       10210 non-null  int64  \n 22  EUGENHTH     10210 non-null  int64  \n 23  EUGROSHP     10210 non-null  int64  \n 24  EUHGT        10210 non-null  int64  \n 25  EUINCLVL     10210 non-null  int64  \n 26  EUINCOME2    10210 non-null  int64  \n 27  EUMEAT       10210 non-null  int64  \n 28  EUMILK       10210 non-null  int64  \n 29  EUPRPMEL     10210 non-null  int64  \n 30  EUSODA       10210 non-null  int64  \n 31  EUSTORES     10210 non-null  int64  \n 32  EUSTREASON   10210 non-null  int64  \n 33  EUTHERM      10210 non-null  int64  \n 34  EUWGT        10210 non-null  int64  \n 35  EUWIC        10210 non-null  int64  \n 36  EXINCOME1    10210 non-null  int64  \ndtypes: float64(2), int64(35)\nmemory usage: 2.9 MB\n"
     ]
    }
   ],
   "source": [
    "raw_ehresp.info()"
   ]
  },
  {
   "cell_type": "code",
   "execution_count": 36,
   "metadata": {},
   "outputs": [
    {
     "output_type": "error",
     "ename": "ValueError",
     "evalue": "Index contains duplicate entries, cannot reshape",
     "traceback": [
      "\u001b[0;31m---------------------------------------------------------------------------\u001b[0m",
      "\u001b[0;31mValueError\u001b[0m                                Traceback (most recent call last)",
      "\u001b[0;32m<ipython-input-36-009b006f20ae>\u001b[0m in \u001b[0;36m<module>\u001b[0;34m\u001b[0m\n\u001b[1;32m      3\u001b[0m \u001b[0mc_miss\u001b[0m \u001b[0;34m=\u001b[0m \u001b[0mraw_ehresp\u001b[0m\u001b[0;34m.\u001b[0m\u001b[0mcopy\u001b[0m\u001b[0;34m(\u001b[0m\u001b[0;34m)\u001b[0m\u001b[0;34m.\u001b[0m\u001b[0mset_index\u001b[0m\u001b[0;34m(\u001b[0m\u001b[0;34m[\u001b[0m\u001b[0;34m'EUDRINK'\u001b[0m\u001b[0;34m,\u001b[0m \u001b[0;34m'EUGENHTH'\u001b[0m \u001b[0;34m]\u001b[0m\u001b[0;34m)\u001b[0m\u001b[0;34m[\u001b[0m\u001b[0mshow_BMI\u001b[0m\u001b[0;34m]\u001b[0m\u001b[0;34m\u001b[0m\u001b[0;34m\u001b[0m\u001b[0m\n\u001b[1;32m      4\u001b[0m \u001b[0;34m\u001b[0m\u001b[0m\n\u001b[0;32m----> 5\u001b[0;31m \u001b[0mc_miss\u001b[0m \u001b[0;34m=\u001b[0m \u001b[0mc_miss\u001b[0m\u001b[0;34m.\u001b[0m\u001b[0munstack\u001b[0m\u001b[0;34m(\u001b[0m\u001b[0mlevel\u001b[0m\u001b[0;34m=\u001b[0m\u001b[0;36m0\u001b[0m\u001b[0;34m)\u001b[0m\u001b[0;34m\u001b[0m\u001b[0;34m\u001b[0m\u001b[0m\n\u001b[0m\u001b[1;32m      6\u001b[0m \u001b[0mc_miss\u001b[0m\u001b[0;34m\u001b[0m\u001b[0;34m\u001b[0m\u001b[0m\n",
      "\u001b[0;32m/usr/local/lib/python3.9/site-packages/pandas/core/series.py\u001b[0m in \u001b[0;36munstack\u001b[0;34m(self, level, fill_value)\u001b[0m\n\u001b[1;32m   3827\u001b[0m         \u001b[0;32mfrom\u001b[0m \u001b[0mpandas\u001b[0m\u001b[0;34m.\u001b[0m\u001b[0mcore\u001b[0m\u001b[0;34m.\u001b[0m\u001b[0mreshape\u001b[0m\u001b[0;34m.\u001b[0m\u001b[0mreshape\u001b[0m \u001b[0;32mimport\u001b[0m \u001b[0munstack\u001b[0m\u001b[0;34m\u001b[0m\u001b[0;34m\u001b[0m\u001b[0m\n\u001b[1;32m   3828\u001b[0m \u001b[0;34m\u001b[0m\u001b[0m\n\u001b[0;32m-> 3829\u001b[0;31m         \u001b[0;32mreturn\u001b[0m \u001b[0munstack\u001b[0m\u001b[0;34m(\u001b[0m\u001b[0mself\u001b[0m\u001b[0;34m,\u001b[0m \u001b[0mlevel\u001b[0m\u001b[0;34m,\u001b[0m \u001b[0mfill_value\u001b[0m\u001b[0;34m)\u001b[0m\u001b[0;34m\u001b[0m\u001b[0;34m\u001b[0m\u001b[0m\n\u001b[0m\u001b[1;32m   3830\u001b[0m \u001b[0;34m\u001b[0m\u001b[0m\n\u001b[1;32m   3831\u001b[0m     \u001b[0;31m# ----------------------------------------------------------------------\u001b[0m\u001b[0;34m\u001b[0m\u001b[0;34m\u001b[0m\u001b[0;34m\u001b[0m\u001b[0m\n",
      "\u001b[0;32m/usr/local/lib/python3.9/site-packages/pandas/core/reshape/reshape.py\u001b[0m in \u001b[0;36munstack\u001b[0;34m(obj, level, fill_value)\u001b[0m\n\u001b[1;32m    428\u001b[0m         \u001b[0;32mif\u001b[0m \u001b[0mis_extension_array_dtype\u001b[0m\u001b[0;34m(\u001b[0m\u001b[0mobj\u001b[0m\u001b[0;34m.\u001b[0m\u001b[0mdtype\u001b[0m\u001b[0;34m)\u001b[0m\u001b[0;34m:\u001b[0m\u001b[0;34m\u001b[0m\u001b[0;34m\u001b[0m\u001b[0m\n\u001b[1;32m    429\u001b[0m             \u001b[0;32mreturn\u001b[0m \u001b[0m_unstack_extension_series\u001b[0m\u001b[0;34m(\u001b[0m\u001b[0mobj\u001b[0m\u001b[0;34m,\u001b[0m \u001b[0mlevel\u001b[0m\u001b[0;34m,\u001b[0m \u001b[0mfill_value\u001b[0m\u001b[0;34m)\u001b[0m\u001b[0;34m\u001b[0m\u001b[0;34m\u001b[0m\u001b[0m\n\u001b[0;32m--> 430\u001b[0;31m         unstacker = _Unstacker(\n\u001b[0m\u001b[1;32m    431\u001b[0m             \u001b[0mobj\u001b[0m\u001b[0;34m.\u001b[0m\u001b[0mindex\u001b[0m\u001b[0;34m,\u001b[0m \u001b[0mlevel\u001b[0m\u001b[0;34m=\u001b[0m\u001b[0mlevel\u001b[0m\u001b[0;34m,\u001b[0m \u001b[0mconstructor\u001b[0m\u001b[0;34m=\u001b[0m\u001b[0mobj\u001b[0m\u001b[0;34m.\u001b[0m\u001b[0m_constructor_expanddim\u001b[0m\u001b[0;34m\u001b[0m\u001b[0;34m\u001b[0m\u001b[0m\n\u001b[1;32m    432\u001b[0m         )\n",
      "\u001b[0;32m/usr/local/lib/python3.9/site-packages/pandas/core/reshape/reshape.py\u001b[0m in \u001b[0;36m__init__\u001b[0;34m(self, index, level, constructor)\u001b[0m\n\u001b[1;32m    116\u001b[0m             \u001b[0;32mraise\u001b[0m \u001b[0mValueError\u001b[0m\u001b[0;34m(\u001b[0m\u001b[0;34m\"Unstacked DataFrame is too big, causing int32 overflow\"\u001b[0m\u001b[0;34m)\u001b[0m\u001b[0;34m\u001b[0m\u001b[0;34m\u001b[0m\u001b[0m\n\u001b[1;32m    117\u001b[0m \u001b[0;34m\u001b[0m\u001b[0m\n\u001b[0;32m--> 118\u001b[0;31m         \u001b[0mself\u001b[0m\u001b[0;34m.\u001b[0m\u001b[0m_make_selectors\u001b[0m\u001b[0;34m(\u001b[0m\u001b[0;34m)\u001b[0m\u001b[0;34m\u001b[0m\u001b[0;34m\u001b[0m\u001b[0m\n\u001b[0m\u001b[1;32m    119\u001b[0m \u001b[0;34m\u001b[0m\u001b[0m\n\u001b[1;32m    120\u001b[0m     \u001b[0;34m@\u001b[0m\u001b[0mcache_readonly\u001b[0m\u001b[0;34m\u001b[0m\u001b[0;34m\u001b[0m\u001b[0m\n",
      "\u001b[0;32m/usr/local/lib/python3.9/site-packages/pandas/core/reshape/reshape.py\u001b[0m in \u001b[0;36m_make_selectors\u001b[0;34m(self)\u001b[0m\n\u001b[1;32m    165\u001b[0m \u001b[0;34m\u001b[0m\u001b[0m\n\u001b[1;32m    166\u001b[0m         \u001b[0;32mif\u001b[0m \u001b[0mmask\u001b[0m\u001b[0;34m.\u001b[0m\u001b[0msum\u001b[0m\u001b[0;34m(\u001b[0m\u001b[0;34m)\u001b[0m \u001b[0;34m<\u001b[0m \u001b[0mlen\u001b[0m\u001b[0;34m(\u001b[0m\u001b[0mself\u001b[0m\u001b[0;34m.\u001b[0m\u001b[0mindex\u001b[0m\u001b[0;34m)\u001b[0m\u001b[0;34m:\u001b[0m\u001b[0;34m\u001b[0m\u001b[0;34m\u001b[0m\u001b[0m\n\u001b[0;32m--> 167\u001b[0;31m             \u001b[0;32mraise\u001b[0m \u001b[0mValueError\u001b[0m\u001b[0;34m(\u001b[0m\u001b[0;34m\"Index contains duplicate entries, cannot reshape\"\u001b[0m\u001b[0;34m)\u001b[0m\u001b[0;34m\u001b[0m\u001b[0;34m\u001b[0m\u001b[0m\n\u001b[0m\u001b[1;32m    168\u001b[0m \u001b[0;34m\u001b[0m\u001b[0m\n\u001b[1;32m    169\u001b[0m         \u001b[0mself\u001b[0m\u001b[0;34m.\u001b[0m\u001b[0mgroup_index\u001b[0m \u001b[0;34m=\u001b[0m \u001b[0mcomp_index\u001b[0m\u001b[0;34m\u001b[0m\u001b[0;34m\u001b[0m\u001b[0m\n",
      "\u001b[0;31mValueError\u001b[0m: Index contains duplicate entries, cannot reshape"
     ]
    }
   ],
   "source": [
    "show_BMI = 'ERBMI'\n",
    "ycycycsacac\n",
    "c_miss = raw_ehresp.copy().set_index(['EUDRINK', 'EUGENHTH' ])[show_BMI]\n",
    "\n",
    "c_miss = c_miss.unstack(level=0)\n",
    "c_missrdgdrd"
   ]
  },
  {
   "cell_type": "code",
   "execution_count": null,
   "metadata": {},
   "outputs": [],
   "source": []
  }
 ]
}